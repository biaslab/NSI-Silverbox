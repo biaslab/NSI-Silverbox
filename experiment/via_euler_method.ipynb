{
 "cells": [
  {
   "cell_type": "markdown",
   "metadata": {},
   "source": [
    "## Silverbox\n",
    "\n",
    "Silverbox is the name of a nonlinear system identification benchmark, proposed in 2004. Data, baselines and more info can be found at http://nonlinearbenchmark.org/#Silverbox.\n",
    "\n",
    "State-space formulation of Silverbox's dynamics:\n",
    "\n",
    "$$\\begin{align}\n",
    "\\mu \\frac{d^2 x(t)}{dt^2} + \\nu \\frac{d x(t)}{dt} + \\kappa(x(t)) x(t) =&\\ u(t) + w(t) \\\\\n",
    "\\kappa(x(t)) =&\\ \\alpha + \\beta x^2(t) \\\\\n",
    "y(t) =&\\ x(t) + e(t)\n",
    "\\end{align}$$\n",
    "\n",
    "where\n",
    "$$\\begin{align}\n",
    "\\mu     =&\\ \\text{mass} \\\\\n",
    "\\nu     =&\\ \\text{viscous damping} \\\\\n",
    "\\kappa(x(t)) =&\\ \\text{nonlinear spring} \\\\\n",
    "y(t)    =&\\ \\text{observation (displacement)} \\\\\n",
    "x(t)    =&\\ \\text{state (displacement)} \\\\\n",
    "u(t)    =&\\ \\text{force} \\\\\n",
    "e(t)    =&\\ \\text{measurement noise} \\\\\n",
    "w(t)    =&\\ \\text{process noise}\n",
    "\\end{align}$$\n",
    "\n",
    "### Steps to solve\n",
    "\n",
    "I now take a series of steps to re-write this problem:\n",
    "\n",
    "#### 1. Assume constant spring coefficient κ\n",
    "\n",
    "$$ \\mu \\frac{d^2 x(t)}{dt^2} + \\nu \\frac{d x(t)}{dt} + κ x(t) = u(t) + w(t)$$\n",
    "\n",
    "#### 2. Divide by leading coefficient\n",
    "\n",
    "$$ \\frac{d^2 x(t)}{dt^2} + \\frac{\\nu}{\\mu} \\frac{d x(t)}{dt} + \\frac{κ}{\\mu} x(t) = \\frac{1}{\\mu} u(t) + \\frac{1}{\\mu} w(t)$$\n",
    "\n",
    "#### 3. Substitute standard variables\n",
    "\n",
    "$$ \\frac{d^2 x(t)}{dt^2} + 2\\zeta \\omega_0 \\frac{d x(t)}{dt} + \\omega_0^2 x(t) - \\frac{u(t)}{\\mu} = \\frac{w(t)}{\\mu}$$\n",
    "\n",
    "where $$\\begin{align} \n",
    "\\zeta =&\\ \\frac{\\nu}{2\\sqrt{\\mu \\kappa}} \\\\ \n",
    "\\omega_0 =&\\ \\sqrt{\\frac{\\kappa}{\\mu}} \\, .\n",
    "\\end{align}$$\n",
    "\n",
    "#### 4. Apply Euler's method to obtain difference equation\n",
    "\n",
    "-> Forward Euler:\n",
    "\n",
    "$$\\begin{align}\n",
    "\\frac{x(t+2h)-2x(t+h)+x(t)}{h^2} + 2\\zeta \\omega_0 \\frac{x(t+h)-x(t)}{h} + \\omega_0^2 x(t) - \\frac{u(t)}{\\mu} =&\\ \\frac{w(t)}{\\mu}\n",
    "\\end{align}$$\n",
    "Set $h$ to sampling frequency and swap to index time-points:\n",
    "$$\\begin{align}\n",
    "x_{t+2} + 2(\\zeta \\omega_0 - 1) x_{t+1} + (1 - 2 \\zeta \\omega_0 + \\omega_0^2) x_{t} - \\frac{u_t}{\\mu} =&\\ \\frac{w_t}{\\mu} \n",
    "\\end{align}$$\n",
    "\n",
    "-> Backward Euler:\n",
    "\n",
    "$$\\begin{align}\n",
    "\\frac{x(t)-2x(t-h)+x(t-2h)}{h^2} - 2\\zeta \\omega_0 \\frac{x(t)-x(t-h)}{h} - \\omega_0^2 x(t) - \\frac{u(t)}{\\mu} =&\\ \\frac{w(t)}{\\mu} \n",
    "\\end{align}$$\n",
    "Set $h$ to sampling frequency and swap to index time-points:\n",
    "$$\\begin{align}\n",
    "(1 + 2 \\zeta \\omega_0 + \\omega_0^2)x_t - 2(1 + \\zeta \\omega_0)x_{t-1} - x_{t-2} - \\frac{u_t}{\\mu} =&\\ \\frac{w_t}{\\mu} \\\\\n",
    "x_t - \\frac{2(1 + \\zeta \\omega_0)}{(1 + 2\\zeta \\omega_0 + \\omega_0^2)}x_{t-1} - \\frac{1}{(1 + 2\\zeta \\omega_0 + \\omega_0^2)}x_{t-2} - \\frac{u_t}{\\mu(1 + 2\\zeta \\omega_0 + \\omega_0^2)} =&\\ \\frac{w_t}{\\mu(1 + 2\\zeta \\omega_0 + \\omega_0^2)}\n",
    "\\end{align}$$\n",
    "    \n",
    "Change to shorthand notation:\n",
    "\n",
    "$$x_t - \\theta_1 x_{t-1} - \\theta_2 x_{t-2} - \\eta u_t = \\eta w_t$$\n",
    "\n",
    "where \n",
    "$$\\begin{align} \n",
    "\\theta_1 =&\\ \\frac{2(1 + \\zeta \\omega_0)}{1 + 2\\zeta \\omega_0 + \\omega_0^2} \\\\\n",
    "\\theta_2 =&\\ \\frac{1}{1 + 2\\zeta \\omega_0 + \\omega_0^2} \\\\\n",
    "\\eta =&\\ \\frac{1}{\\mu(1 + 2 \\zeta \\omega_0 + \\omega_0^2)}\n",
    "\\end{align}$$\n",
    "\n",
    "Given three equations and three unknowns, I can recover $\\zeta$, $\\omega_0$ and $\\mu$ from $\\theta_1$, $\\theta_2$, and $\\eta$.\n",
    "\n",
    "#### 5. Convert to multivariate first-order difference form\n",
    "\n",
    "Stick to backward Euler (matches AR structure)\n",
    "- Backward Euler:\n",
    "\n",
    "    $$z_t = A(\\theta) z_{t-1} + c\\eta u_t + c\\eta w_t$$\n",
    "\n",
    "    where $z_t = [x_t\\ \\ x_{t-1}]$, $A(\\theta) = [\\theta_1 \\ \\ \\theta_2; 1\\ \\ 0]$, $c = [1\\ \\ 0]$.\n",
    "\n",
    "#### 6. Convert to Gaussian probability\n",
    "\n",
    "- Backward Euler:\n",
    "\n",
    "$$z_t \\sim \\mathcal{N}(A(\\theta) z_{t-1} + c\\eta u_t, cc^{\\top} \\eta \\tau)$$\n",
    "\n",
    "for $w_t \\sim \\mathcal{N}(0, \\tau)$.\n",
    "\n",
    "#### 7. Observation likelihood\n",
    "\n",
    "$$y_t \\sim \\mathcal{N}(c^{\\top} z_t, σ)$$\n",
    "\n",
    "where $e_t \\sim \\mathcal{N}(0, \\sigma)$.\n",
    "\n",
    "I will first study a situation with known measurement noise (so $\\sigma$ is fixed). That means I need priors for $\\theta$, $\\eta$, and $\\tau$. The variables are all strictly positive, which means they can be modeled by log-normal and gamma distributions:\n",
    "\n",
    "$$\\begin{align}\n",
    "\\log(\\theta) \\sim&\\ \\mathcal{N}(m_\\theta, W_\\theta) \\\\\n",
    "\\log(\\eta) \\sim&\\ \\mathcal{N}(m_\\eta, W_\\eta) \\\\\n",
    "\\tau \\sim&\\ Γ(a_\\tau, b_\\tau) \n",
    "\\end{align}$$"
   ]
  },
  {
   "cell_type": "markdown",
   "metadata": {},
   "source": [
    "### Data\n",
    "\n",
    "Let's first have a look at the data."
   ]
  },
  {
   "cell_type": "code",
   "execution_count": 1,
   "metadata": {},
   "outputs": [],
   "source": [
    "using Revise\n",
    "using CSV\n",
    "using DataFrames"
   ]
  },
  {
   "cell_type": "code",
   "execution_count": 2,
   "metadata": {},
   "outputs": [],
   "source": [
    "# Read data from CSV file\n",
    "df = CSV.read(\"../data/SNLS80mV.csv\", ignoreemptylines=true)\n",
    "df = select(df, [:V1, :V2])\n",
    "\n",
    "# Shorthand\n",
    "input = df[:,1]\n",
    "output = df[:,2]\n",
    "\n",
    "# Time horizon\n",
    "T = size(df, 1);"
   ]
  },
  {
   "cell_type": "code",
   "execution_count": 3,
   "metadata": {},
   "outputs": [],
   "source": [
    "using Plots"
   ]
  },
  {
   "cell_type": "code",
   "execution_count": 4,
   "metadata": {},
   "outputs": [],
   "source": [
    "# Plot every n-th time-point to avoid figure size exploding\n",
    "n = 10\n",
    "p1 = Plots.scatter(1:n:T, output[1:n:T], color=\"black\", label=\"output\", markersize=2, size=(1600,800), xlabel=\"time (t)\", ylabel=\"response\")\n",
    "Plots.savefig(p1, \"viz/output_signal.png\")"
   ]
  },
  {
   "cell_type": "code",
   "execution_count": 5,
   "metadata": {},
   "outputs": [],
   "source": [
    "p2 = Plots.scatter(1:n:T, input[1:n:T], color=\"blue\", label=\"output\", markersize=2, size=(1600,800), xlabel=\"time (t)\", ylabel=\"control\")\n",
    "Plots.savefig(p2, \"viz/input_signal.png\")"
   ]
  },
  {
   "cell_type": "markdown",
   "metadata": {},
   "source": [
    "## Implementation\n",
    "\n",
    "Implementation with ForneyLab and AR node. The AR node is locally modified from the package LAR (LAR is in dev mode)."
   ]
  },
  {
   "cell_type": "code",
   "execution_count": 6,
   "metadata": {},
   "outputs": [
    {
     "name": "stderr",
     "output_type": "stream",
     "text": [
      "┌ Info: Precompiling LAR [c3bc7fac-5998-4d64-8961-b7df36e0e4ce]\n",
      "└ @ Base loading.jl:1273\n",
      "WARNING: Method definition differentialEntropy(ForneyLab.ProbabilityDistribution{ForneyLab.Multivariate, F<:ForneyLab.Gaussian}) where {F<:ForneyLab.Gaussian} in module ForneyLab at /home/wmkouw/.julia/dev/ForneyLab/src/factor_nodes/gaussian.jl:106 overwritten in module Node at /home/wmkouw/.julia/dev/LAR/src/ar_node.jl:100.\n",
      "  ** incremental compilation may be fatally broken for this module **\n",
      "\n"
     ]
    }
   ],
   "source": [
    "using ForneyLab\n",
    "using ForneyLab: unsafeMean, unsafeCov, unsafeVar, unsafePrecision\n",
    "using LAR\n",
    "using LAR.Node, LAR.Data\n",
    "using ProgressMeter"
   ]
  },
  {
   "cell_type": "markdown",
   "metadata": {},
   "source": [
    "I will use the Nonlinear node to cope with a log-normal distribution."
   ]
  },
  {
   "cell_type": "code",
   "execution_count": 7,
   "metadata": {},
   "outputs": [
    {
     "data": {
      "text/html": [
       "<?xml version=\"1.0\" encoding=\"UTF-8\" standalone=\"no\"?>\n",
       "<!DOCTYPE svg PUBLIC \"-//W3C//DTD SVG 1.1//EN\"\n",
       " \"http://www.w3.org/Graphics/SVG/1.1/DTD/svg11.dtd\">\n",
       "<!-- Generated by graphviz version 2.40.1 (20161225.0304)\n",
       " -->\n",
       "<!-- Title: G Pages: 1 -->\n",
       "<svg width=\"1103pt\" height=\"746pt\"\n",
       " viewBox=\"0.00 0.00 1103.00 746.00\" xmlns=\"http://www.w3.org/2000/svg\" xmlns:xlink=\"http://www.w3.org/1999/xlink\">\n",
       "<g id=\"graph0\" class=\"graph\" transform=\"scale(1 1) rotate(0) translate(4 742)\">\n",
       "<title>G</title>\n",
       "<polygon fill=\"#ffffff\" stroke=\"transparent\" points=\"-4,4 -4,-742 1099,-742 1099,4 -4,4\"/>\n",
       "<!-- 2957384904594016050 -->\n",
       "<g id=\"node1\" class=\"node\">\n",
       "<title>2957384904594016050</title>\n",
       "<polygon fill=\"#d3d3d3\" stroke=\"#000000\" points=\"288.5,-396 234.5,-396 234.5,-342 288.5,-342 288.5,-396\"/>\n",
       "<text text-anchor=\"middle\" x=\"261.5\" y=\"-366.8\" font-family=\"Times,serif\" font-size=\"9.00\" fill=\"#000000\">clamp_1</text>\n",
       "</g>\n",
       "<!-- 3865820462277412277 -->\n",
       "<g id=\"node2\" class=\"node\">\n",
       "<title>3865820462277412277</title>\n",
       "<polygon fill=\"none\" stroke=\"#000000\" points=\"715,-171 608,-171 608,-99 715,-99 715,-171\"/>\n",
       "<text text-anchor=\"middle\" x=\"661.5\" y=\"-137.8\" font-family=\"Times,serif\" font-size=\"9.00\" fill=\"#000000\">𝒩</text>\n",
       "<text text-anchor=\"middle\" x=\"661.5\" y=\"-127.8\" font-family=\"Times,serif\" font-size=\"9.00\" fill=\"#000000\">gaussianmeanprecision_1</text>\n",
       "</g>\n",
       "<!-- 5629181357262804425 -->\n",
       "<g id=\"node13\" class=\"node\">\n",
       "<title>5629181357262804425</title>\n",
       "<polygon fill=\"#d3d3d3\" stroke=\"#000000\" points=\"692,-54 615,-54 615,0 692,0 692,-54\"/>\n",
       "<text text-anchor=\"middle\" x=\"653.5\" y=\"-24.8\" font-family=\"Times,serif\" font-size=\"9.00\" fill=\"#000000\">placeholder_m_θ</text>\n",
       "</g>\n",
       "<!-- 3865820462277412277&#45;&#45;5629181357262804425 -->\n",
       "<g id=\"edge19\" class=\"edge\">\n",
       "<title>3865820462277412277&#45;&#45;5629181357262804425</title>\n",
       "<path fill=\"none\" stroke=\"#000000\" d=\"M658.8139,-98.7371C657.7335,-84.1526 656.5093,-67.6262 655.5085,-54.1146\"/>\n",
       "<text text-anchor=\"start\" x=\"657.5\" y=\"-74.6\" font-family=\"Times,serif\" font-size=\"8.00\" fill=\"#ff0000\">m_θ</text>\n",
       "<text text-anchor=\"start\" x=\"636.5085\" y=\"-56.7146\" font-family=\"Times,serif\" font-size=\"8.00\" fill=\"#000000\">1 out </text>\n",
       "<text text-anchor=\"start\" x=\"643.8139\" y=\"-92.3371\" font-family=\"Times,serif\" font-size=\"8.00\" fill=\"#000000\">2 m </text>\n",
       "</g>\n",
       "<!-- 3170302361401499587 -->\n",
       "<g id=\"node20\" class=\"node\">\n",
       "<title>3170302361401499587</title>\n",
       "<polygon fill=\"#d3d3d3\" stroke=\"#000000\" points=\"886,-54 807,-54 807,0 886,0 886,-54\"/>\n",
       "<text text-anchor=\"middle\" x=\"846.5\" y=\"-24.8\" font-family=\"Times,serif\" font-size=\"9.00\" fill=\"#000000\">placeholder_W_θ</text>\n",
       "</g>\n",
       "<!-- 3865820462277412277&#45;&#45;3170302361401499587 -->\n",
       "<g id=\"edge3\" class=\"edge\">\n",
       "<title>3865820462277412277&#45;&#45;3170302361401499587</title>\n",
       "<path fill=\"none\" stroke=\"#000000\" d=\"M715.0097,-103.7619C744.356,-86.63 780.1111,-65.7567 806.9246,-50.1035\"/>\n",
       "<text text-anchor=\"start\" x=\"764.5\" y=\"-74.6\" font-family=\"Times,serif\" font-size=\"8.00\" fill=\"#ff0000\">W_θ</text>\n",
       "<text text-anchor=\"start\" x=\"787.9246\" y=\"-52.7035\" font-family=\"Times,serif\" font-size=\"8.00\" fill=\"#000000\">1 out </text>\n",
       "<text text-anchor=\"start\" x=\"715.0097\" y=\"-106.3619\" font-family=\"Times,serif\" font-size=\"8.00\" fill=\"#000000\">3 w </text>\n",
       "</g>\n",
       "<!-- 9541055651952785096 -->\n",
       "<g id=\"node3\" class=\"node\">\n",
       "<title>9541055651952785096</title>\n",
       "<polygon fill=\"#d3d3d3\" stroke=\"#000000\" points=\"77,-162 0,-162 0,-108 77,-108 77,-162\"/>\n",
       "<text text-anchor=\"middle\" x=\"38.5\" y=\"-132.8\" font-family=\"Times,serif\" font-size=\"9.00\" fill=\"#000000\">placeholder_m_z</text>\n",
       "</g>\n",
       "<!-- 2783292648591588550 -->\n",
       "<g id=\"node4\" class=\"node\">\n",
       "<title>2783292648591588550</title>\n",
       "<polygon fill=\"#d3d3d3\" stroke=\"#000000\" points=\"84,-279 11,-279 11,-225 84,-225 84,-279\"/>\n",
       "<text text-anchor=\"middle\" x=\"47.5\" y=\"-249.8\" font-family=\"Times,serif\" font-size=\"9.00\" fill=\"#000000\">placeholder_u_t</text>\n",
       "</g>\n",
       "<!-- 15136264126938258992 -->\n",
       "<g id=\"node5\" class=\"node\">\n",
       "<title>15136264126938258992</title>\n",
       "<polygon fill=\"#d3d3d3\" stroke=\"#000000\" points=\"191.5,-513 137.5,-513 137.5,-459 191.5,-459 191.5,-513\"/>\n",
       "<text text-anchor=\"middle\" x=\"164.5\" y=\"-483.8\" font-family=\"Times,serif\" font-size=\"9.00\" fill=\"#000000\">clamp_2</text>\n",
       "</g>\n",
       "<!-- 8530737782736284978 -->\n",
       "<g id=\"node6\" class=\"node\">\n",
       "<title>8530737782736284978</title>\n",
       "<polygon fill=\"none\" stroke=\"#000000\" points=\"378.5,-522 306.5,-522 306.5,-450 378.5,-450 378.5,-522\"/>\n",
       "<text text-anchor=\"middle\" x=\"342.5\" y=\"-488.8\" font-family=\"Times,serif\" font-size=\"9.00\" fill=\"#000000\">dot</text>\n",
       "<text text-anchor=\"middle\" x=\"342.5\" y=\"-478.8\" font-family=\"Times,serif\" font-size=\"9.00\" fill=\"#000000\">dotproduct_1</text>\n",
       "</g>\n",
       "<!-- 8530737782736284978&#45;&#45;2957384904594016050 -->\n",
       "<g id=\"edge6\" class=\"edge\">\n",
       "<title>8530737782736284978&#45;&#45;2957384904594016050</title>\n",
       "<path fill=\"none\" stroke=\"#000000\" d=\"M306.0556,-473.92C286.7511,-465.4476 264.7594,-452.0014 253.5,-432 247.4425,-421.2394 248.2166,-407.8358 251.0041,-396.1614\"/>\n",
       "<text text-anchor=\"start\" x=\"253.5\" y=\"-425.6\" font-family=\"Times,serif\" font-size=\"8.00\" fill=\"#ff0000\">clamp_1</text>\n",
       "<text text-anchor=\"start\" x=\"232.0041\" y=\"-398.7614\" font-family=\"Times,serif\" font-size=\"8.00\" fill=\"#000000\">1 out </text>\n",
       "<text text-anchor=\"start\" x=\"287.0556\" y=\"-476.52\" font-family=\"Times,serif\" font-size=\"8.00\" fill=\"#000000\">3 in2 </text>\n",
       "</g>\n",
       "<!-- 1235807737860245700 -->\n",
       "<g id=\"node21\" class=\"node\">\n",
       "<title>1235807737860245700</title>\n",
       "<polygon fill=\"none\" stroke=\"#000000\" points=\"475.5,-405 403.5,-405 403.5,-333 475.5,-333 475.5,-405\"/>\n",
       "<text text-anchor=\"middle\" x=\"439.5\" y=\"-371.8\" font-family=\"Times,serif\" font-size=\"9.00\" fill=\"#000000\">ARC</text>\n",
       "<text text-anchor=\"middle\" x=\"439.5\" y=\"-361.8\" font-family=\"Times,serif\" font-size=\"9.00\" fill=\"#000000\">x_t</text>\n",
       "</g>\n",
       "<!-- 8530737782736284978&#45;&#45;1235807737860245700 -->\n",
       "<g id=\"edge8\" class=\"edge\">\n",
       "<title>8530737782736284978&#45;&#45;1235807737860245700</title>\n",
       "<path fill=\"none\" stroke=\"#000000\" d=\"M372.3947,-449.9415C384.1958,-435.7071 397.7292,-419.3833 409.537,-405.1409\"/>\n",
       "<text text-anchor=\"start\" x=\"393.5\" y=\"-425.6\" font-family=\"Times,serif\" font-size=\"8.00\" fill=\"#ff0000\">x_t</text>\n",
       "<text text-anchor=\"start\" x=\"396.537\" y=\"-407.7409\" font-family=\"Times,serif\" font-size=\"8.00\" fill=\"#000000\">1 y </text>\n",
       "<text text-anchor=\"start\" x=\"353.3947\" y=\"-443.5415\" font-family=\"Times,serif\" font-size=\"8.00\" fill=\"#000000\">2 in1 </text>\n",
       "</g>\n",
       "<!-- 5563452801310486377 -->\n",
       "<g id=\"node7\" class=\"node\">\n",
       "<title>5563452801310486377</title>\n",
       "<polygon fill=\"#d3d3d3\" stroke=\"#000000\" points=\"293,-54 216,-54 216,0 293,0 293,-54\"/>\n",
       "<text text-anchor=\"middle\" x=\"254.5\" y=\"-24.8\" font-family=\"Times,serif\" font-size=\"9.00\" fill=\"#000000\">placeholder_w_η</text>\n",
       "</g>\n",
       "<!-- 10260155000089517732 -->\n",
       "<g id=\"node8\" class=\"node\">\n",
       "<title>10260155000089517732</title>\n",
       "<polygon fill=\"#d3d3d3\" stroke=\"#000000\" points=\"270.5,-162 192.5,-162 192.5,-108 270.5,-108 270.5,-162\"/>\n",
       "<text text-anchor=\"middle\" x=\"231.5\" y=\"-132.8\" font-family=\"Times,serif\" font-size=\"9.00\" fill=\"#000000\">placeholder_W_z</text>\n",
       "</g>\n",
       "<!-- 16717701225382838544 -->\n",
       "<g id=\"node9\" class=\"node\">\n",
       "<title>16717701225382838544</title>\n",
       "<polygon fill=\"none\" stroke=\"#000000\" points=\"271.5,-288 199.5,-288 199.5,-216 271.5,-216 271.5,-288\"/>\n",
       "<text text-anchor=\"middle\" x=\"235.5\" y=\"-254.8\" font-family=\"Times,serif\" font-size=\"9.00\" fill=\"#000000\">𝒩</text>\n",
       "<text text-anchor=\"middle\" x=\"235.5\" y=\"-244.8\" font-family=\"Times,serif\" font-size=\"9.00\" fill=\"#000000\">z_t</text>\n",
       "</g>\n",
       "<!-- 16717701225382838544&#45;&#45;9541055651952785096 -->\n",
       "<g id=\"edge16\" class=\"edge\">\n",
       "<title>16717701225382838544&#45;&#45;9541055651952785096</title>\n",
       "<path fill=\"none\" stroke=\"#000000\" d=\"M199.3672,-230.5404C164.7106,-209.9576 112.5557,-178.9823 77.0978,-157.9236\"/>\n",
       "<text text-anchor=\"start\" x=\"143.5\" y=\"-191.6\" font-family=\"Times,serif\" font-size=\"8.00\" fill=\"#ff0000\">m_z</text>\n",
       "<text text-anchor=\"start\" x=\"77.0978\" y=\"-160.5236\" font-family=\"Times,serif\" font-size=\"8.00\" fill=\"#000000\">1 out </text>\n",
       "<text text-anchor=\"start\" x=\"184.3672\" y=\"-233.1404\" font-family=\"Times,serif\" font-size=\"8.00\" fill=\"#000000\">2 m </text>\n",
       "</g>\n",
       "<!-- 16717701225382838544&#45;&#45;10260155000089517732 -->\n",
       "<g id=\"edge20\" class=\"edge\">\n",
       "<title>16717701225382838544&#45;&#45;10260155000089517732</title>\n",
       "<path fill=\"none\" stroke=\"#000000\" d=\"M234.2672,-215.9415C233.675,-198.6185 232.977,-178.201 232.4301,-162.2064\"/>\n",
       "<text text-anchor=\"start\" x=\"234.5\" y=\"-191.6\" font-family=\"Times,serif\" font-size=\"8.00\" fill=\"#ff0000\">W_z</text>\n",
       "<text text-anchor=\"start\" x=\"213.4301\" y=\"-164.8064\" font-family=\"Times,serif\" font-size=\"8.00\" fill=\"#000000\">1 out </text>\n",
       "<text text-anchor=\"start\" x=\"219.2672\" y=\"-209.5415\" font-family=\"Times,serif\" font-size=\"8.00\" fill=\"#000000\">3 w </text>\n",
       "</g>\n",
       "<!-- 11692238360919883705 -->\n",
       "<g id=\"node10\" class=\"node\">\n",
       "<title>11692238360919883705</title>\n",
       "<polygon fill=\"#d3d3d3\" stroke=\"#000000\" points=\"904.5,-162 830.5,-162 830.5,-108 904.5,-108 904.5,-162\"/>\n",
       "<text text-anchor=\"middle\" x=\"867.5\" y=\"-132.8\" font-family=\"Times,serif\" font-size=\"9.00\" fill=\"#000000\">placeholder_a_τ</text>\n",
       "</g>\n",
       "<!-- 16898809218195995241 -->\n",
       "<g id=\"node11\" class=\"node\">\n",
       "<title>16898809218195995241</title>\n",
       "<polygon fill=\"none\" stroke=\"#000000\" points=\"488.5,-288 390.5,-288 390.5,-216 488.5,-216 488.5,-288\"/>\n",
       "<text text-anchor=\"middle\" x=\"439.5\" y=\"-254.8\" font-family=\"Times,serif\" font-size=\"9.00\" fill=\"#000000\">Nonlinear{Unscented}</text>\n",
       "<text text-anchor=\"middle\" x=\"439.5\" y=\"-244.8\" font-family=\"Times,serif\" font-size=\"9.00\" fill=\"#000000\">nonlinear_2</text>\n",
       "</g>\n",
       "<!-- 16848090746098480935 -->\n",
       "<g id=\"node15\" class=\"node\">\n",
       "<title>16848090746098480935</title>\n",
       "<polygon fill=\"none\" stroke=\"#000000\" points=\"493,-171 386,-171 386,-99 493,-99 493,-171\"/>\n",
       "<text text-anchor=\"middle\" x=\"439.5\" y=\"-137.8\" font-family=\"Times,serif\" font-size=\"9.00\" fill=\"#000000\">𝒩</text>\n",
       "<text text-anchor=\"middle\" x=\"439.5\" y=\"-127.8\" font-family=\"Times,serif\" font-size=\"9.00\" fill=\"#000000\">gaussianmeanprecision_2</text>\n",
       "</g>\n",
       "<!-- 16898809218195995241&#45;&#45;16848090746098480935 -->\n",
       "<g id=\"edge9\" class=\"edge\">\n",
       "<title>16898809218195995241&#45;&#45;16848090746098480935</title>\n",
       "<path fill=\"none\" stroke=\"#000000\" d=\"M439.5,-215.9415C439.5,-201.7071 439.5,-185.3833 439.5,-171.1409\"/>\n",
       "<text text-anchor=\"start\" x=\"439.5\" y=\"-191.6\" font-family=\"Times,serif\" font-size=\"8.00\" fill=\"#ff0000\">lη</text>\n",
       "<text text-anchor=\"start\" x=\"420.5\" y=\"-173.7409\" font-family=\"Times,serif\" font-size=\"8.00\" fill=\"#000000\">1 out </text>\n",
       "<text text-anchor=\"start\" x=\"420.5\" y=\"-209.5415\" font-family=\"Times,serif\" font-size=\"8.00\" fill=\"#000000\">2 in1 </text>\n",
       "</g>\n",
       "<!-- 15667652429171090530 -->\n",
       "<g id=\"node12\" class=\"node\">\n",
       "<title>15667652429171090530</title>\n",
       "<polygon fill=\"none\" stroke=\"#000000\" points=\"704.5,-288 606.5,-288 606.5,-216 704.5,-216 704.5,-288\"/>\n",
       "<text text-anchor=\"middle\" x=\"655.5\" y=\"-254.8\" font-family=\"Times,serif\" font-size=\"9.00\" fill=\"#000000\">Nonlinear{Unscented}</text>\n",
       "<text text-anchor=\"middle\" x=\"655.5\" y=\"-244.8\" font-family=\"Times,serif\" font-size=\"9.00\" fill=\"#000000\">nonlinear_1</text>\n",
       "</g>\n",
       "<!-- 15667652429171090530&#45;&#45;3865820462277412277 -->\n",
       "<g id=\"edge2\" class=\"edge\">\n",
       "<title>15667652429171090530&#45;&#45;3865820462277412277</title>\n",
       "<path fill=\"none\" stroke=\"#000000\" d=\"M657.3492,-215.9415C658.0791,-201.7071 658.9162,-185.3833 659.6466,-171.1409\"/>\n",
       "<text text-anchor=\"start\" x=\"658.5\" y=\"-191.6\" font-family=\"Times,serif\" font-size=\"8.00\" fill=\"#ff0000\">lθ</text>\n",
       "<text text-anchor=\"start\" x=\"640.6466\" y=\"-173.7409\" font-family=\"Times,serif\" font-size=\"8.00\" fill=\"#000000\">1 out </text>\n",
       "<text text-anchor=\"start\" x=\"638.3492\" y=\"-209.5415\" font-family=\"Times,serif\" font-size=\"8.00\" fill=\"#000000\">2 in1 </text>\n",
       "</g>\n",
       "<!-- 651478096911975762 -->\n",
       "<g id=\"node14\" class=\"node\">\n",
       "<title>651478096911975762</title>\n",
       "<polygon fill=\"#d3d3d3\" stroke=\"#000000\" points=\"1095,-162 1020,-162 1020,-108 1095,-108 1095,-162\"/>\n",
       "<text text-anchor=\"middle\" x=\"1057.5\" y=\"-132.8\" font-family=\"Times,serif\" font-size=\"9.00\" fill=\"#000000\">placeholder_b_τ</text>\n",
       "</g>\n",
       "<!-- 16848090746098480935&#45;&#45;5563452801310486377 -->\n",
       "<g id=\"edge15\" class=\"edge\">\n",
       "<title>16848090746098480935&#45;&#45;5563452801310486377</title>\n",
       "<path fill=\"none\" stroke=\"#000000\" d=\"M385.9903,-103.7619C356.3239,-86.4431 320.108,-65.3009 293.2011,-49.5931\"/>\n",
       "<text text-anchor=\"start\" x=\"347.5\" y=\"-74.6\" font-family=\"Times,serif\" font-size=\"8.00\" fill=\"#ff0000\">w_η</text>\n",
       "<text text-anchor=\"start\" x=\"293.2011\" y=\"-52.1931\" font-family=\"Times,serif\" font-size=\"8.00\" fill=\"#000000\">1 out </text>\n",
       "<text text-anchor=\"start\" x=\"370.9903\" y=\"-106.3619\" font-family=\"Times,serif\" font-size=\"8.00\" fill=\"#000000\">3 w </text>\n",
       "</g>\n",
       "<!-- 12992219357385845601 -->\n",
       "<g id=\"node19\" class=\"node\">\n",
       "<title>12992219357385845601</title>\n",
       "<polygon fill=\"#d3d3d3\" stroke=\"#000000\" points=\"485,-54 408,-54 408,0 485,0 485,-54\"/>\n",
       "<text text-anchor=\"middle\" x=\"446.5\" y=\"-24.8\" font-family=\"Times,serif\" font-size=\"9.00\" fill=\"#000000\">placeholder_m_η</text>\n",
       "</g>\n",
       "<!-- 16848090746098480935&#45;&#45;12992219357385845601 -->\n",
       "<g id=\"edge10\" class=\"edge\">\n",
       "<title>16848090746098480935&#45;&#45;12992219357385845601</title>\n",
       "<path fill=\"none\" stroke=\"#000000\" d=\"M441.8504,-98.7371C442.7957,-84.1526 443.8668,-67.6262 444.7426,-54.1146\"/>\n",
       "<text text-anchor=\"start\" x=\"442.5\" y=\"-74.6\" font-family=\"Times,serif\" font-size=\"8.00\" fill=\"#ff0000\">m_η</text>\n",
       "<text text-anchor=\"start\" x=\"425.7426\" y=\"-56.7146\" font-family=\"Times,serif\" font-size=\"8.00\" fill=\"#000000\">1 out </text>\n",
       "<text text-anchor=\"start\" x=\"426.8504\" y=\"-92.3371\" font-family=\"Times,serif\" font-size=\"8.00\" fill=\"#000000\">2 m </text>\n",
       "</g>\n",
       "<!-- 7877740386583091457 -->\n",
       "<g id=\"node16\" class=\"node\">\n",
       "<title>7877740386583091457</title>\n",
       "<polygon fill=\"none\" stroke=\"#000000\" points=\"903.5,-288 831.5,-288 831.5,-216 903.5,-216 903.5,-288\"/>\n",
       "<text text-anchor=\"middle\" x=\"867.5\" y=\"-254.8\" font-family=\"Times,serif\" font-size=\"9.00\" fill=\"#000000\">Gam</text>\n",
       "<text text-anchor=\"middle\" x=\"867.5\" y=\"-244.8\" font-family=\"Times,serif\" font-size=\"9.00\" fill=\"#000000\">gamma_1</text>\n",
       "</g>\n",
       "<!-- 7877740386583091457&#45;&#45;11692238360919883705 -->\n",
       "<g id=\"edge17\" class=\"edge\">\n",
       "<title>7877740386583091457&#45;&#45;11692238360919883705</title>\n",
       "<path fill=\"none\" stroke=\"#000000\" d=\"M867.5,-215.9415C867.5,-198.6185 867.5,-178.201 867.5,-162.2064\"/>\n",
       "<text text-anchor=\"start\" x=\"867.5\" y=\"-191.6\" font-family=\"Times,serif\" font-size=\"8.00\" fill=\"#ff0000\">a_τ</text>\n",
       "<text text-anchor=\"start\" x=\"848.5\" y=\"-164.8064\" font-family=\"Times,serif\" font-size=\"8.00\" fill=\"#000000\">1 out </text>\n",
       "<text text-anchor=\"start\" x=\"854.5\" y=\"-209.5415\" font-family=\"Times,serif\" font-size=\"8.00\" fill=\"#000000\">2 a </text>\n",
       "</g>\n",
       "<!-- 7877740386583091457&#45;&#45;651478096911975762 -->\n",
       "<g id=\"edge14\" class=\"edge\">\n",
       "<title>7877740386583091457&#45;&#45;651478096911975762</title>\n",
       "<path fill=\"none\" stroke=\"#000000\" d=\"M903.6848,-229.7178C936.9546,-209.2306 986.091,-178.9729 1019.8246,-158.2001\"/>\n",
       "<text text-anchor=\"start\" x=\"967.5\" y=\"-191.6\" font-family=\"Times,serif\" font-size=\"8.00\" fill=\"#ff0000\">b_τ</text>\n",
       "<text text-anchor=\"start\" x=\"1000.8246\" y=\"-160.8001\" font-family=\"Times,serif\" font-size=\"8.00\" fill=\"#000000\">1 out </text>\n",
       "<text text-anchor=\"start\" x=\"903.6848\" y=\"-232.3178\" font-family=\"Times,serif\" font-size=\"8.00\" fill=\"#000000\">3 b </text>\n",
       "</g>\n",
       "<!-- 2453951463796545154 -->\n",
       "<g id=\"node17\" class=\"node\">\n",
       "<title>2453951463796545154</title>\n",
       "<polygon fill=\"#d3d3d3\" stroke=\"#000000\" points=\"275,-738 202,-738 202,-684 275,-684 275,-738\"/>\n",
       "<text text-anchor=\"middle\" x=\"238.5\" y=\"-708.8\" font-family=\"Times,serif\" font-size=\"9.00\" fill=\"#000000\">placeholder_y_t</text>\n",
       "</g>\n",
       "<!-- 7291203129470502240 -->\n",
       "<g id=\"node18\" class=\"node\">\n",
       "<title>7291203129470502240</title>\n",
       "<polygon fill=\"none\" stroke=\"#000000\" points=\"274.5,-639 202.5,-639 202.5,-567 274.5,-567 274.5,-639\"/>\n",
       "<text text-anchor=\"middle\" x=\"238.5\" y=\"-605.8\" font-family=\"Times,serif\" font-size=\"9.00\" fill=\"#000000\">𝒩</text>\n",
       "<text text-anchor=\"middle\" x=\"238.5\" y=\"-595.8\" font-family=\"Times,serif\" font-size=\"9.00\" fill=\"#000000\">y_t</text>\n",
       "</g>\n",
       "<!-- 2453951463796545154&#45;&#45;7291203129470502240 -->\n",
       "<g id=\"edge4\" class=\"edge\">\n",
       "<title>2453951463796545154&#45;&#45;7291203129470502240</title>\n",
       "<path fill=\"none\" stroke=\"#000000\" d=\"M238.5,-683.747C238.5,-670.2495 238.5,-653.7693 238.5,-639.2253\"/>\n",
       "<text text-anchor=\"start\" x=\"238.5\" y=\"-659.6\" font-family=\"Times,serif\" font-size=\"8.00\" fill=\"#ff0000\">y_t</text>\n",
       "<text text-anchor=\"start\" x=\"219.5\" y=\"-641.8253\" font-family=\"Times,serif\" font-size=\"8.00\" fill=\"#000000\">1 out </text>\n",
       "<text text-anchor=\"start\" x=\"219.5\" y=\"-677.347\" font-family=\"Times,serif\" font-size=\"8.00\" fill=\"#000000\">1 out </text>\n",
       "</g>\n",
       "<!-- 7291203129470502240&#45;&#45;15136264126938258992 -->\n",
       "<g id=\"edge13\" class=\"edge\">\n",
       "<title>7291203129470502240&#45;&#45;15136264126938258992</title>\n",
       "<path fill=\"none\" stroke=\"#000000\" d=\"M202.3022,-588.9355C185.1377,-580.2141 166.2836,-567.1573 156.5,-549 150.6426,-538.1293 151.4417,-524.7118 154.1939,-513.0568\"/>\n",
       "<text text-anchor=\"start\" x=\"156.5\" y=\"-542.6\" font-family=\"Times,serif\" font-size=\"8.00\" fill=\"#ff0000\">clamp_2</text>\n",
       "<text text-anchor=\"start\" x=\"135.1939\" y=\"-515.6568\" font-family=\"Times,serif\" font-size=\"8.00\" fill=\"#000000\">1 out </text>\n",
       "<text text-anchor=\"start\" x=\"187.3022\" y=\"-591.5355\" font-family=\"Times,serif\" font-size=\"8.00\" fill=\"#000000\">3 w </text>\n",
       "</g>\n",
       "<!-- 7291203129470502240&#45;&#45;8530737782736284978 -->\n",
       "<g id=\"edge1\" class=\"edge\">\n",
       "<title>7291203129470502240&#45;&#45;8530737782736284978</title>\n",
       "<path fill=\"none\" stroke=\"#000000\" d=\"M270.552,-566.9415C283.2048,-552.7071 297.7148,-536.3833 310.3748,-522.1409\"/>\n",
       "<text text-anchor=\"start\" x=\"294.5\" y=\"-542.6\" font-family=\"Times,serif\" font-size=\"8.00\" fill=\"#ff0000\">cx_t</text>\n",
       "<text text-anchor=\"start\" x=\"291.3748\" y=\"-524.7409\" font-family=\"Times,serif\" font-size=\"8.00\" fill=\"#000000\">1 out </text>\n",
       "<text text-anchor=\"start\" x=\"255.552\" y=\"-560.5415\" font-family=\"Times,serif\" font-size=\"8.00\" fill=\"#000000\">2 m </text>\n",
       "</g>\n",
       "<!-- 1235807737860245700&#45;&#45;2783292648591588550 -->\n",
       "<g id=\"edge12\" class=\"edge\">\n",
       "<title>1235807737860245700&#45;&#45;2783292648591588550</title>\n",
       "<path fill=\"none\" stroke=\"#000000\" d=\"M403.3309,-353.7019C386.0372,-346.762 364.9166,-338.8244 345.5,-333 256.5686,-306.3232 230.4314,-314.6768 141.5,-288 122.2508,-282.2258 101.3268,-274.3747 84.1172,-267.4778\"/>\n",
       "<text text-anchor=\"start\" x=\"268.5\" y=\"-308.6\" font-family=\"Times,serif\" font-size=\"8.00\" fill=\"#ff0000\">u_t</text>\n",
       "<text text-anchor=\"start\" x=\"84.1172\" y=\"-270.0778\" font-family=\"Times,serif\" font-size=\"8.00\" fill=\"#000000\">1 out </text>\n",
       "<text text-anchor=\"start\" x=\"390.3309\" y=\"-356.3019\" font-family=\"Times,serif\" font-size=\"8.00\" fill=\"#000000\">5 u </text>\n",
       "</g>\n",
       "<!-- 1235807737860245700&#45;&#45;16717701225382838544 -->\n",
       "<g id=\"edge18\" class=\"edge\">\n",
       "<title>1235807737860245700&#45;&#45;16717701225382838544</title>\n",
       "<path fill=\"none\" stroke=\"#000000\" d=\"M403.4985,-348.3521C366.4382,-327.0969 309.0071,-294.1585 271.8278,-272.8351\"/>\n",
       "<text text-anchor=\"start\" x=\"344.5\" y=\"-308.6\" font-family=\"Times,serif\" font-size=\"8.00\" fill=\"#ff0000\">z_t</text>\n",
       "<text text-anchor=\"start\" x=\"271.8278\" y=\"-275.4351\" font-family=\"Times,serif\" font-size=\"8.00\" fill=\"#000000\">1 out </text>\n",
       "<text text-anchor=\"start\" x=\"390.4985\" y=\"-341.9521\" font-family=\"Times,serif\" font-size=\"8.00\" fill=\"#000000\">2 x </text>\n",
       "</g>\n",
       "<!-- 1235807737860245700&#45;&#45;16898809218195995241 -->\n",
       "<g id=\"edge5\" class=\"edge\">\n",
       "<title>1235807737860245700&#45;&#45;16898809218195995241</title>\n",
       "<path fill=\"none\" stroke=\"#000000\" d=\"M439.5,-332.9415C439.5,-318.7071 439.5,-302.3833 439.5,-288.1409\"/>\n",
       "<text text-anchor=\"start\" x=\"439.5\" y=\"-308.6\" font-family=\"Times,serif\" font-size=\"8.00\" fill=\"#ff0000\">η</text>\n",
       "<text text-anchor=\"start\" x=\"420.5\" y=\"-290.7409\" font-family=\"Times,serif\" font-size=\"8.00\" fill=\"#000000\">1 out </text>\n",
       "<text text-anchor=\"start\" x=\"426.5\" y=\"-326.5415\" font-family=\"Times,serif\" font-size=\"8.00\" fill=\"#000000\">4 η </text>\n",
       "</g>\n",
       "<!-- 1235807737860245700&#45;&#45;15667652429171090530 -->\n",
       "<g id=\"edge7\" class=\"edge\">\n",
       "<title>1235807737860245700&#45;&#45;15667652429171090530</title>\n",
       "<path fill=\"none\" stroke=\"#000000\" d=\"M475.6535,-349.4168C511.4426,-330.0311 566.4958,-300.2106 606.2646,-278.6692\"/>\n",
       "<text text-anchor=\"start\" x=\"553.5\" y=\"-308.6\" font-family=\"Times,serif\" font-size=\"8.00\" fill=\"#ff0000\">θ</text>\n",
       "<text text-anchor=\"start\" x=\"587.2646\" y=\"-281.2692\" font-family=\"Times,serif\" font-size=\"8.00\" fill=\"#000000\">1 out </text>\n",
       "<text text-anchor=\"start\" x=\"475.6535\" y=\"-352.0168\" font-family=\"Times,serif\" font-size=\"8.00\" fill=\"#000000\">3 θ </text>\n",
       "</g>\n",
       "<!-- 1235807737860245700&#45;&#45;7877740386583091457 -->\n",
       "<g id=\"edge11\" class=\"edge\">\n",
       "<title>1235807737860245700&#45;&#45;7877740386583091457</title>\n",
       "<path fill=\"none\" stroke=\"#000000\" d=\"M475.6168,-360.9943C535.6062,-347.4626 659.3971,-318.543 762.5,-288 785.5964,-281.158 811.1717,-272.4145 831.2984,-265.2578\"/>\n",
       "<text text-anchor=\"start\" x=\"691.5\" y=\"-308.6\" font-family=\"Times,serif\" font-size=\"8.00\" fill=\"#ff0000\">τ</text>\n",
       "<text text-anchor=\"start\" x=\"812.2984\" y=\"-267.8578\" font-family=\"Times,serif\" font-size=\"8.00\" fill=\"#000000\">1 out </text>\n",
       "<text text-anchor=\"start\" x=\"475.6168\" y=\"-363.5943\" font-family=\"Times,serif\" font-size=\"8.00\" fill=\"#000000\">6 γ </text>\n",
       "</g>\n",
       "</g>\n",
       "</svg>\n"
      ]
     },
     "metadata": {},
     "output_type": "display_data"
    }
   ],
   "source": [
    "# Start graph\n",
    "graph = FactorGraph()\n",
    "\n",
    "# Static parameters\n",
    "@RV lθ ~ GaussianMeanPrecision(placeholder(:m_θ, dims=(2,)), placeholder(:W_θ, dims=(2,2)))\n",
    "@RV lη ~ GaussianMeanPrecision(placeholder(:m_η), placeholder(:w_η))\n",
    "@RV τ ~ Gamma(placeholder(:a_τ), placeholder(:b_τ))\n",
    "# @RV γ ~ Gamma(placeholder(:a_γ), placeholder(:b_γ))\n",
    "\n",
    "# Nonlinear function\n",
    "g(x) = exp.(x)\n",
    "g_inv(x) = log.(x)\n",
    "\n",
    "# Nonlinear node\n",
    "# @RV θ ~ Nonlinear{Unscented}(log_θ; g=g, g_inv=g_inv, dims=(2,)) # DomainError on log as g_inv\n",
    "@RV θ ~ Nonlinear{Unscented}(lθ; g=g, dims=(2,))\n",
    "@RV η ~ Nonlinear{Unscented}(lη; g=g, dims=(1,))\n",
    "\n",
    "# Observation selection variable\n",
    "c = [1, 0]\n",
    "\n",
    "# Placeholder for control\n",
    "# @RV u_t ~ GaussianMeanPrecision(placeholder(:m_u), 1e12, id=:u_t)\n",
    "\n",
    "# State prior\n",
    "@RV z_t ~ GaussianMeanPrecision(placeholder(:m_z, dims=(2,)), placeholder(:W_z, dims=(2, 2)), id=:z_t)\n",
    "\n",
    "# Autoregressive node\n",
    "@RV x_t ~ AutoregressiveControl(θ, z_t, η, placeholder(:u_t), τ, id=:x_t)\n",
    "\n",
    "# Selecting the first element of current state variable\n",
    "@RV cx_t = dot(c, x_t)\n",
    "cx_t.id = :cx_t\n",
    "\n",
    "# Specify likelihood\n",
    "@RV y_t ~ GaussianMeanPrecision(cx_t, 10., id=:y_t)\n",
    "\n",
    "# Placeholder for observation\n",
    "placeholder(y_t, :y_t)\n",
    "\n",
    "# Draw time-slice subgraph\n",
    "ForneyLab.draw(graph)"
   ]
  },
  {
   "cell_type": "code",
   "execution_count": 8,
   "metadata": {},
   "outputs": [],
   "source": [
    "# Infer an algorithm\n",
    "# q = PosteriorFactorization(z_t, x_t, u_t, θ, lθ, η, lη, τ, ids=[:z, :x, :u, :θ, :lθ, :η, :lη, :τ])\n",
    "q = PosteriorFactorization(z_t, x_t, θ, lθ, η, lη, τ, ids=[:z, :x, :θ, :lθ, :η, :lη, :τ])\n",
    "# q = PosteriorFactorization(z_t, x_t, θ, lθ, η, lη, τ, γ, ids=[:z, :x, :θ, :lθ, :η, :lη, :τ, :γ])\n",
    "algo = variationalAlgorithm(q, free_energy=false)\n",
    "source_code = algorithmSourceCode(algo, free_energy=false)\n",
    "eval(Meta.parse(source_code));\n",
    "# println(source_code)"
   ]
  },
  {
   "cell_type": "code",
   "execution_count": 9,
   "metadata": {},
   "outputs": [
    {
     "name": "stderr",
     "output_type": "stream",
     "text": [
      "\u001b[32mAt time  20%|████████▋                                  |  ETA: 0:00:49\u001b[39m"
     ]
    },
    {
     "ename": "ErrorException",
     "evalue": "PosDefException: Matrix is not positive-definite, even after regularization. Array{Float64,2}:\n[195112.1359902545 4.969419806502103e7; 4.969419806502103e7 1.2655571641677246e10]",
     "output_type": "error",
     "traceback": [
      "PosDefException: Matrix is not positive-definite, even after regularization. Array{Float64,2}:\n[195112.1359902545 4.969419806502103e7; 4.969419806502103e7 1.2655571641677246e10]",
      "",
      "Stacktrace:",
      " [1] error(::String) at ./error.jl:33",
      " [2] cholinv(::Array{Float64,2}) at /home/wmkouw/.julia/dev/ForneyLab/src/helpers.jl:41",
      " [3] unsafeWeightedMean(::ProbabilityDistribution{Multivariate,GaussianMeanVariance}) at /home/wmkouw/.julia/dev/ForneyLab/src/factor_nodes/gaussian_mean_variance.jl:64",
      " [4] prod!(::ProbabilityDistribution{Multivariate,GaussianMeanPrecision}, ::ProbabilityDistribution{Multivariate,GaussianMeanVariance}, ::ProbabilityDistribution{Multivariate,GaussianWeightedMeanPrecision}) at /home/wmkouw/.julia/dev/ForneyLab/src/factor_nodes/gaussian.jl:70 (repeats 2 times)",
      " [5] *(::ProbabilityDistribution{Multivariate,GaussianMeanPrecision}, ::ProbabilityDistribution{Multivariate,GaussianMeanVariance}) at /home/wmkouw/.julia/dev/ForneyLab/src/ForneyLab.jl:123",
      " [6] stepθ!(::Dict{Symbol,Any}, ::Dict{Any,Any}, ::Array{Message,1}) at ./none:88",
      " [7] stepθ!(::Dict{Symbol,Any}, ::Dict{Any,Any}) at ./none:83",
      " [8] top-level scope at ./In[9]:56"
     ]
    }
   ],
   "source": [
    "# Looking at only the first few timepoints\n",
    "T = 10\n",
    "# T = size(df, 1);\n",
    "\n",
    "# Inference parameters\n",
    "num_iterations = 5\n",
    "\n",
    "# Initialize marginal distribution and observed data dictionaries\n",
    "data = Dict()\n",
    "marginals = Dict()\n",
    "\n",
    "# Initialize arrays of parameterizations\n",
    "params_x = (zeros(2,T+1), repeat(.1 .*float(eye(2)), outer=(1,1,T+1)))\n",
    "# params_z = (zeros(2,T+1), repeat(.1 .*float(eye(2)), outer=(1,1,T+1)))\n",
    "params_θ = (ones(2,T+1), repeat(.01 .*float(eye(2)), outer=(1,1,T+1)))\n",
    "params_η = (ones(1,T+1), 1. *ones(1,T+1))\n",
    "params_τ = (0.1*ones(1,T+1), 0.01*ones(1,T+1))\n",
    "# params_γ = (0.1*ones(1,T+1), 0.01*ones(1,T+1))\n",
    "\n",
    "# Start progress bar\n",
    "p = Progress(T, 1, \"At time \")\n",
    "\n",
    "# Perform inference at each time-step\n",
    "for t = 1:T\n",
    "\n",
    "    # Update progress bar\n",
    "    update!(p, t)\n",
    "\n",
    "    # Initialize marginals\n",
    "    marginals[:x_t] = ProbabilityDistribution(Multivariate, GaussianMeanPrecision, m=params_x[1][:,t], w=params_x[2][:,:,t])\n",
    "    marginals[:z_t] = ProbabilityDistribution(Multivariate, GaussianMeanPrecision, m=params_x[1][:,t], w=params_x[2][:,:,t])\n",
    "#     marginals[:u_t] = ProbabilityDistribution(Univariate, GaussianMeanPrecision, m=input[t], w=1e12)\n",
    "    marginals[:θ] = ProbabilityDistribution(Multivariate, GaussianMeanPrecision, m=params_θ[1][:,t], w=params_θ[2][:,:,t])\n",
    "    marginals[:η] = ProbabilityDistribution(Univariate, GaussianMeanPrecision, m=params_η[1][1,t], w=params_η[2][1,t])\n",
    "    marginals[:τ] = ProbabilityDistribution(Univariate, Gamma, a=params_τ[1][1,t], b=params_τ[2][1,t])\n",
    "#     marginals[:γ] = ProbabilityDistribution(Univariate, Gamma, a=params_γ[1][1,t], b=params_γ[2][1,t])\n",
    "    \n",
    "    data = Dict(:y_t => output[t],\n",
    "                :u_t => input[t],\n",
    "                :m_z => params_x[1][:,t],\n",
    "                :m_θ => params_θ[1][:,t],\n",
    "                :m_η => params_η[1][1,t],\n",
    "                :W_z => params_x[2][:,:,t],\n",
    "                :W_θ => params_θ[2][:,:,t],\n",
    "                :w_η => params_η[2][1,t],\n",
    "                :a_τ => params_τ[1][1,t],\n",
    "                :b_τ => params_τ[2][1,t])\n",
    "#                 :a_γ => params_γ[1][1,t],\n",
    "#                 :b_γ => params_γ[2][1,t])\n",
    "\n",
    "    # Iterate variational parameter updates\n",
    "    for i = 1:num_iterations\n",
    "\n",
    "        stepx!(data, marginals)\n",
    "#         stepz!(data, marginals)\n",
    "        stepθ!(data, marginals)\n",
    "        stepη!(data, marginals)\n",
    "        stepτ!(data, marginals)\n",
    "#         stepγ!(data, marginals)\n",
    "    end\n",
    "\n",
    "    # Store current parameterizations of marginals\n",
    "    params_x[1][:,t+1] = unsafeMean(marginals[:x_t])\n",
    "#     params_z[1][:,t+1] = unsafeMean(marginals[:z_t])\n",
    "    params_θ[1][:,t+1] = unsafeMean(marginals[:θ])\n",
    "    params_η[1][1,t+1] = unsafeMean(marginals[:η])\n",
    "    params_x[2][:,:,t+1] = marginals[:x_t].params[:w]\n",
    "#     params_z[2][:,:,t+1] = marginals[:z_t].params[:w]\n",
    "    params_θ[2][:,:,t+1] = marginals[:θ].params[:w]\n",
    "    params_η[2][1,t+1] = marginals[:η].params[:w]\n",
    "    params_τ[1][1,t+1] = marginals[:τ].params[:a]\n",
    "    params_τ[2][1,t+1] = marginals[:τ].params[:b]\n",
    "#     params_γ[1][1,t+1] = marginals[:γ].params[:a]\n",
    "#     params_γ[2][1,t+1] = marginals[:γ].params[:b]\n",
    "\n",
    "end"
   ]
  },
  {
   "cell_type": "code",
   "execution_count": 10,
   "metadata": {},
   "outputs": [
    {
     "data": {
      "text/plain": [
       "Dict{Any,Any} with 9 entries:\n",
       "  :γ    => Gam(a=0.10, b=1.00e-02)…\n",
       "  :lη   => 𝒩(xi=1.05e+11, w=3.85e+10)…\n",
       "  :cx_t => 𝒩(xi=-0.13, w=10.29)…\n",
       "  :τ    => Gam(a=3.60, b=12.23)…\n",
       "  :x_t  => 𝒩(xi=[-0.13, -1.14e+06], w=[[10.29, 0.00][0.00, 1.00e+08]])…\n",
       "  :lθ   => 𝒩(xi=[-0.02, -1.86e-04], w=[[0.10, -2.38e-04][-2.38e-04, 1.51e-04]])…\n",
       "  :z_t  => 𝒩(m=[-0.01, -9.04e-03], w=[[10.29, 0.00][0.00, 1.00e+08]])…\n",
       "  :θ    => 𝒩(m=[0.85, 41.73], w=[[0.05, -1.93e-04][-1.93e-04, 6.88e-06]])…\n",
       "  :η    => 𝒩(m=15.15, w=1.67e+08)…"
      ]
     },
     "execution_count": 10,
     "metadata": {},
     "output_type": "execute_result"
    }
   ],
   "source": [
    "marginals"
   ]
  },
  {
   "cell_type": "code",
   "execution_count": 11,
   "metadata": {},
   "outputs": [
    {
     "name": "stdout",
     "output_type": "stream",
     "text": [
      "[-0.013080047191992392, -0.011400757424893925]\n",
      "[-0.011400757424893923, -0.009043223988344977]\n",
      "[0.8548644450680233, 41.73272126426748]\n",
      "15.154316892848163\n",
      "0.29445668833603467\n"
     ]
    }
   ],
   "source": [
    "println(unsafeMean(marginals[:x_t]))\n",
    "println(unsafeMean(marginals[:z_t]))\n",
    "println(unsafeMean(marginals[:θ]))\n",
    "println(unsafeMean(marginals[:η]))\n",
    "println(unsafeMean(marginals[:τ]))"
   ]
  },
  {
   "cell_type": "code",
   "execution_count": 12,
   "metadata": {},
   "outputs": [
    {
     "name": "stdout",
     "output_type": "stream",
     "text": [
      "[10.294456688337036 0.0; 0.0 1.0e8]\n",
      "[10.29445620187196 0.0; 0.0 1.0e8]\n",
      "[0.04910853756178353 -0.00019280879263396564; -0.00019280879263396564 6.876804109542028e-6]\n",
      "1.6747707964478466e8\n",
      "0.024084650362729075\n"
     ]
    }
   ],
   "source": [
    "println(unsafePrecision(marginals[:x_t]))\n",
    "println(unsafePrecision(marginals[:z_t]))\n",
    "println(unsafePrecision(marginals[:θ]))\n",
    "println(unsafePrecision(marginals[:η]))\n",
    "println(unsafeVar(marginals[:τ]))"
   ]
  },
  {
   "cell_type": "code",
   "execution_count": 13,
   "metadata": {},
   "outputs": [
    {
     "data": {
      "text/plain": [
       "2×2 Array{Float64,2}:\n",
       "  22.8819     641.553\n",
       " 641.553   163404.0  "
      ]
     },
     "execution_count": 13,
     "metadata": {},
     "output_type": "execute_result"
    }
   ],
   "source": [
    "mθ = unsafeMean(marginals[:θ])\n",
    "Vθ = unsafeCov(marginals[:θ])"
   ]
  },
  {
   "cell_type": "code",
   "execution_count": 14,
   "metadata": {},
   "outputs": [
    {
     "data": {
      "text/plain": [
       "5.970966308470263e-9"
      ]
     },
     "execution_count": 14,
     "metadata": {},
     "output_type": "execute_result"
    }
   ],
   "source": [
    "mη = unsafeMean(marginals[:η])\n",
    "vη = unsafeCov(marginals[:η])"
   ]
  },
  {
   "cell_type": "code",
   "execution_count": 15,
   "metadata": {},
   "outputs": [
    {
     "data": {
      "text/plain": [
       "0.006526"
      ]
     },
     "execution_count": 15,
     "metadata": {},
     "output_type": "execute_result"
    }
   ],
   "source": [
    "vu = 0.\n",
    "mu = input[T]"
   ]
  },
  {
   "cell_type": "code",
   "execution_count": 16,
   "metadata": {},
   "outputs": [
    {
     "data": {
      "text/plain": [
       "2×2 Array{Float64,2}:\n",
       "  0.0971397  -0.0   \n",
       " -0.0         1.0e-8"
      ]
     },
     "execution_count": 16,
     "metadata": {},
     "output_type": "execute_result"
    }
   ],
   "source": [
    "mz = unsafeMean(marginals[:z_t])\n",
    "Vz = unsafeCov(marginals[:z_t])"
   ]
  },
  {
   "cell_type": "code",
   "execution_count": 17,
   "metadata": {},
   "outputs": [
    {
     "data": {
      "text/plain": [
       "2×2 Array{Float64,2}:\n",
       " 0.000171088  0.000149122\n",
       " 0.000149122  0.000129977"
      ]
     },
     "execution_count": 17,
     "metadata": {},
     "output_type": "execute_result"
    }
   ],
   "source": [
    "mx = unsafeMean(marginals[:x_t])\n",
    "mx*mx'"
   ]
  },
  {
   "cell_type": "code",
   "execution_count": 18,
   "metadata": {},
   "outputs": [
    {
     "data": {
      "text/plain": [
       "2×2 Array{Float64,2}:\n",
       "  0.0971397  -0.0   \n",
       " -0.0         1.0e-8"
      ]
     },
     "execution_count": 18,
     "metadata": {},
     "output_type": "execute_result"
    }
   ],
   "source": [
    "Wx = unsafePrecision(marginals[:x_t])\n",
    "Vx = unsafeCov(marginals[:x_t])"
   ]
  },
  {
   "cell_type": "code",
   "execution_count": 19,
   "metadata": {},
   "outputs": [
    {
     "data": {
      "text/plain": [
       "2-element Array{Float64,1}:\n",
       " 1.0\n",
       " 0.0"
      ]
     },
     "execution_count": 19,
     "metadata": {},
     "output_type": "execute_result"
    }
   ],
   "source": [
    "S = [0. 0.;1. 0.]\n",
    "c = [1., 0.]"
   ]
  },
  {
   "cell_type": "code",
   "execution_count": 20,
   "metadata": {},
   "outputs": [
    {
     "data": {
      "text/plain": [
       "0.29445668833603467"
      ]
     },
     "execution_count": 20,
     "metadata": {},
     "output_type": "execute_result"
    }
   ],
   "source": [
    "mγ = unsafeMean(marginals[:τ])"
   ]
  },
  {
   "cell_type": "code",
   "execution_count": 21,
   "metadata": {},
   "outputs": [
    {
     "data": {
      "text/plain": [
       "1.2540520495576358e-5"
      ]
     },
     "execution_count": 21,
     "metadata": {},
     "output_type": "execute_result"
    }
   ],
   "source": [
    "mγ*mu^2"
   ]
  },
  {
   "cell_type": "code",
   "execution_count": 22,
   "metadata": {},
   "outputs": [
    {
     "data": {
      "text/plain": [
       "0.0007188112607375413"
      ]
     },
     "execution_count": 22,
     "metadata": {},
     "output_type": "execute_result"
    }
   ],
   "source": [
    "mW = wMatrix(mγ, 2)\n",
    "\n",
    "# Expectation of AR coefficient matrix\n",
    "mA = S + c*mθ'\n",
    "\n",
    "# Parameters of outgoing message\n",
    "w = mγ*(mu^2 + vu)\n",
    "xi = (mu*c')*mW*(mx - mA*mz)"
   ]
  },
  {
   "cell_type": "code",
   "execution_count": 23,
   "metadata": {},
   "outputs": [
    {
     "data": {
      "text/plain": [
       "21.74281820385054"
      ]
     },
     "execution_count": 23,
     "metadata": {},
     "output_type": "execute_result"
    }
   ],
   "source": [
    "Vx[1,1] + mx[1]*mx[1] + mx'*Vθ*mx + mθ'*(Vx + mx*mx')*mθ -2*mx[1]*(mθ'*mx + mη*mu) + 2*mθ'*mx*mη*mu + (mu^2+vu)*(mη^2+vη)"
   ]
  },
  {
   "cell_type": "code",
   "execution_count": 24,
   "metadata": {},
   "outputs": [
    {
     "data": {
      "text/plain": [
       "2×2 Array{Float64,2}:\n",
       " 10.2863      3.58523e-5\n",
       "  3.58523e-5  1.0e8     "
      ]
     },
     "execution_count": 24,
     "metadata": {},
     "output_type": "execute_result"
    }
   ],
   "source": [
    "mx_7 = params_x[1][:,7]\n",
    "Vx_7 = params_x[2][:,:,7]\n",
    "Vx_7 + mx_7*mx_7'"
   ]
  },
  {
   "cell_type": "code",
   "execution_count": 25,
   "metadata": {},
   "outputs": [
    {
     "data": {
      "text/plain": [
       "2×6 Array{Float64,2}:\n",
       " 0.0229373  -0.00396455  -0.00904322  -0.0114008   0.0  0.0\n",
       " 0.0110234   0.0229373   -0.00396455  -0.00904322  0.0  0.0"
      ]
     },
     "execution_count": 25,
     "metadata": {},
     "output_type": "execute_result"
    }
   ],
   "source": [
    "params_x[1][:,5:10]"
   ]
  },
  {
   "cell_type": "code",
   "execution_count": 26,
   "metadata": {},
   "outputs": [
    {
     "data": {
      "text/plain": [
       "2×2 Array{Float64,2}:\n",
       "  0.0491085    -0.000192809\n",
       " -0.000192809   6.8768e-6  "
      ]
     },
     "execution_count": 26,
     "metadata": {},
     "output_type": "execute_result"
    }
   ],
   "source": [
    "params_θ[2][:,:,8]"
   ]
  },
  {
   "cell_type": "code",
   "execution_count": 27,
   "metadata": {},
   "outputs": [
    {
     "data": {
      "text/plain": [
       "2×2 Array{Float64,2}:\n",
       "  0.0491085    -0.000192809\n",
       " -0.000192809   6.8768e-6  "
      ]
     },
     "execution_count": 27,
     "metadata": {},
     "output_type": "execute_result"
    }
   ],
   "source": [
    "mθ = unsafeMean(marginals[:θ])\n",
    "Vθ = unsafeCov(marginals[:θ])\n",
    "Wθ = unsafePrecision(marginals[:θ])\n",
    "# marginals[:θ]"
   ]
  },
  {
   "cell_type": "code",
   "execution_count": 28,
   "metadata": {},
   "outputs": [
    {
     "data": {
      "text/plain": [
       "2×2 Array{Float64,2}:\n",
       "  0.0971397  -0.0   \n",
       " -0.0         1.0e-8"
      ]
     },
     "execution_count": 28,
     "metadata": {},
     "output_type": "execute_result"
    }
   ],
   "source": [
    "m_x = unsafeMean(marginals[:x_t])\n",
    "V_x = unsafeCov(marginals[:x_t])"
   ]
  },
  {
   "cell_type": "code",
   "execution_count": 29,
   "metadata": {},
   "outputs": [
    {
     "data": {
      "text/plain": [
       "𝒩(m=[-0.01, -9.04e-03], w=[[10.29, 0.00][0.00, 1.00e+08]])\n"
      ]
     },
     "execution_count": 29,
     "metadata": {},
     "output_type": "execute_result"
    }
   ],
   "source": [
    "marginals[:z_t]"
   ]
  },
  {
   "cell_type": "code",
   "execution_count": 30,
   "metadata": {},
   "outputs": [
    {
     "data": {
      "text/plain": [
       "10-element Array{Float64,1}:\n",
       "  0.0093978\n",
       "  0.012971 \n",
       "  0.010825 \n",
       "  0.004072 \n",
       " -0.0039647\n",
       " -0.0092378\n",
       " -0.0093763\n",
       " -0.0047789\n",
       "  0.0020409\n",
       "  0.0079169"
      ]
     },
     "execution_count": 30,
     "metadata": {},
     "output_type": "execute_result"
    }
   ],
   "source": [
    "output[1:10]"
   ]
  },
  {
   "cell_type": "code",
   "execution_count": 31,
   "metadata": {},
   "outputs": [
    {
     "data": {
      "text/plain": [
       "10-element Array{Float64,1}:\n",
       "  0.01930778293052664 \n",
       "  0.03277263419331982 \n",
       "  0.011023360294116219\n",
       "  0.0229372729933307  \n",
       " -0.003964545066760749\n",
       " -0.009043223988344977\n",
       " -0.011400757424893923\n",
       "  0.0                 \n",
       "  0.0                 \n",
       "  0.0                 "
      ]
     },
     "execution_count": 31,
     "metadata": {},
     "output_type": "execute_result"
    }
   ],
   "source": [
    "estimated_coeffs = params_θ[1][:,2:end]\n",
    "estimated_states = params_x[1][1,2:end]"
   ]
  },
  {
   "cell_type": "code",
   "execution_count": 32,
   "metadata": {},
   "outputs": [
    {
     "data": {
      "text/plain": [
       "stepx! (generic function with 3 methods)"
      ]
     },
     "execution_count": 32,
     "metadata": {},
     "output_type": "execute_result"
    }
   ],
   "source": [
    "begin\n",
    "\n",
    "function initlη()\n",
    "\n",
    "messages = Array{Message}(undef, 4)\n",
    "\n",
    "\n",
    "return messages\n",
    "\n",
    "end\n",
    "\n",
    "function steplη!(data::Dict, marginals::Dict=Dict(), messages::Vector{Message}=Array{Message}(undef, 4))\n",
    "\n",
    "messages[1] = ruleVBGaussianMeanPrecisionOut(nothing, ProbabilityDistribution(Univariate, PointMass, m=data[:m_η]), ProbabilityDistribution(Univariate, PointMass, m=data[:w_η]))\n",
    "messages[2] = ruleSPNonlinearUTOutNG(g, nothing, messages[1])\n",
    "messages[3] = ruleVariationalARCIn3PPPNPP(marginals[:x_t], marginals[:z_t], marginals[:θ], nothing, ProbabilityDistribution(Univariate, PointMass, m=data[:u_t]), marginals[:τ])\n",
    "messages[4] = ruleSPNonlinearUTIn1GG(g, messages[3], messages[1])\n",
    "\n",
    "marginals[:lη] = messages[1].dist * messages[4].dist\n",
    "marginals[:η] = messages[2].dist * messages[3].dist\n",
    "\n",
    "return marginals\n",
    "\n",
    "end\n",
    "\n",
    "function stepτ!(data::Dict, marginals::Dict=Dict(), messages::Vector{Message}=Array{Message}(undef, 2))\n",
    "\n",
    "messages[1] = ruleVBGammaOut(nothing, ProbabilityDistribution(Univariate, PointMass, m=data[:a_τ]), ProbabilityDistribution(Univariate, PointMass, m=data[:b_τ]))\n",
    "messages[2] = ruleVariationalARCIn5PPPPPN(marginals[:x_t], marginals[:z_t], marginals[:θ], marginals[:η], ProbabilityDistribution(Univariate, PointMass, m=data[:u_t]), nothing)\n",
    "\n",
    "marginals[:τ] = messages[1].dist * messages[2].dist\n",
    "\n",
    "return marginals\n",
    "\n",
    "end\n",
    "\n",
    "function initlθ()\n",
    "\n",
    "messages = Array{Message}(undef, 4)\n",
    "\n",
    "\n",
    "return messages\n",
    "\n",
    "end\n",
    "\n",
    "function steplθ!(data::Dict, marginals::Dict=Dict(), messages::Vector{Message}=Array{Message}(undef, 4))\n",
    "\n",
    "messages[1] = ruleVBGaussianMeanPrecisionOut(nothing, ProbabilityDistribution(Multivariate, PointMass, m=data[:m_θ]), ProbabilityDistribution(MatrixVariate, PointMass, m=data[:W_θ]))\n",
    "messages[2] = ruleSPNonlinearUTOutNG(g, nothing, messages[1])\n",
    "messages[3] = ruleVariationalARCIn2PPNPPP(marginals[:x_t], marginals[:z_t], nothing, marginals[:η], ProbabilityDistribution(Univariate, PointMass, m=data[:u_t]), marginals[:τ])\n",
    "messages[4] = ruleSPNonlinearUTIn1GG(g, messages[3], messages[1])\n",
    "\n",
    "marginals[:lθ] = messages[1].dist * messages[4].dist\n",
    "marginals[:θ] = messages[2].dist * messages[3].dist\n",
    "\n",
    "return marginals\n",
    "\n",
    "end\n",
    "\n",
    "function stepz!(data::Dict, marginals::Dict=Dict(), messages::Vector{Message}=Array{Message}(undef, 2))\n",
    "\n",
    "messages[1] = ruleVBGaussianMeanPrecisionOut(nothing, ProbabilityDistribution(Multivariate, PointMass, m=data[:m_z]), ProbabilityDistribution(MatrixVariate, PointMass, m=data[:W_z]))\n",
    "messages[2] = ruleVariationalARCIn1PNPPPP(marginals[:x_t], nothing, marginals[:θ], marginals[:η], ProbabilityDistribution(Univariate, PointMass, m=data[:u_t]), marginals[:τ])\n",
    "\n",
    "marginals[:z_t] = messages[1].dist * messages[2].dist\n",
    "\n",
    "return marginals\n",
    "\n",
    "end\n",
    "\n",
    "function initθ()\n",
    "\n",
    "messages = Array{Message}(undef, 4)\n",
    "\n",
    "messages[1] = Message(vague(GaussianMeanPrecision, (2,)))\n",
    "\n",
    "return messages\n",
    "\n",
    "end\n",
    "\n",
    "function stepθ!(data::Dict, marginals::Dict=Dict(), messages::Vector{Message}=Array{Message}(undef, 4))\n",
    "\n",
    "messages[1] = ruleVBGaussianMeanPrecisionOut(nothing, ProbabilityDistribution(Multivariate, PointMass, m=data[:m_θ]), ProbabilityDistribution(MatrixVariate, PointMass, m=data[:W_θ]))\n",
    "messages[2] = ruleSPNonlinearUTOutNG(g, nothing, messages[1])\n",
    "messages[3] = ruleVariationalARCIn2PPNPPP(marginals[:x_t], marginals[:z_t], nothing, marginals[:η], ProbabilityDistribution(Univariate, PointMass, m=data[:u_t]), marginals[:τ])\n",
    "messages[4] = ruleSPNonlinearUTIn1GG(g, messages[3], messages[1])\n",
    "\n",
    "marginals[:lθ] = messages[1].dist * messages[4].dist\n",
    "marginals[:θ] = messages[2].dist * messages[3].dist\n",
    "\n",
    "return marginals\n",
    "\n",
    "end\n",
    "\n",
    "function initη()\n",
    "\n",
    "messages = Array{Message}(undef, 4)\n",
    "\n",
    "messages[1] = Message(vague(GaussianMeanPrecision, (1,)))\n",
    "\n",
    "return messages\n",
    "\n",
    "end\n",
    "\n",
    "function stepη!(data::Dict, marginals::Dict=Dict(), messages::Vector{Message}=Array{Message}(undef, 4))\n",
    "\n",
    "messages[1] = ruleVBGaussianMeanPrecisionOut(nothing, ProbabilityDistribution(Univariate, PointMass, m=data[:m_η]), ProbabilityDistribution(Univariate, PointMass, m=data[:w_η]))\n",
    "messages[2] = ruleSPNonlinearUTOutNG(g, nothing, messages[1])\n",
    "messages[3] = ruleVariationalARCIn3PPPNPP(marginals[:x_t], marginals[:z_t], marginals[:θ], nothing, ProbabilityDistribution(Univariate, PointMass, m=data[:u_t]), marginals[:τ])\n",
    "messages[4] = ruleSPNonlinearUTIn1GG(g, messages[3], messages[1])\n",
    "\n",
    "marginals[:lη] = messages[1].dist * messages[4].dist\n",
    "marginals[:η] = messages[2].dist * messages[3].dist\n",
    "\n",
    "return marginals\n",
    "\n",
    "end\n",
    "\n",
    "function stepx!(data::Dict, marginals::Dict=Dict(), messages::Vector{Message}=Array{Message}(undef, 4))\n",
    "\n",
    "messages[1] = ruleVariationalARCOutNPPPPP(nothing, marginals[:z_t], marginals[:θ], marginals[:η], ProbabilityDistribution(Univariate, PointMass, m=data[:u_t]), marginals[:τ])\n",
    "messages[2] = ruleVBGaussianMeanPrecisionM(ProbabilityDistribution(Univariate, PointMass, m=data[:y_t]), nothing, ProbabilityDistribution(Univariate, PointMass, m=10.0))\n",
    "messages[3] = ruleSPDotProductIn1GNP(messages[2], nothing, Message(Multivariate, PointMass, m=[1, 0]))\n",
    "messages[4] = ruleSPDotProductOutNGP(nothing, messages[1], Message(Multivariate, PointMass, m=[1, 0]))\n",
    "\n",
    "marginals[:cx_t] = messages[4].dist * messages[2].dist\n",
    "marginals[:x_t] = messages[1].dist * messages[3].dist\n",
    "\n",
    "return marginals\n",
    "\n",
    "end\n",
    "\n",
    "end # block"
   ]
  },
  {
   "cell_type": "markdown",
   "metadata": {},
   "source": [
    "### Visualize results"
   ]
  },
  {
   "cell_type": "code",
   "execution_count": 33,
   "metadata": {},
   "outputs": [],
   "source": [
    "# Plot every n-th time-point to avoid figure size exploding\n",
    "n = 10\n",
    "p1 = Plots.scatter(1:n:T, output[1:n:T], color=\"black\", label=\"output\", markersize=2, size=(1600,800), xlabel=\"time (t)\", ylabel=\"response\")\n",
    "Plots.plot!(1:n:T, estimated_states[1:n:T], color=\"red\", linewidth=1, label=\"estimated\")\n",
    "Plots.savefig(p1, \"viz/estimated_states01.png\")"
   ]
  },
  {
   "cell_type": "code",
   "execution_count": 34,
   "metadata": {},
   "outputs": [
    {
     "data": {
      "image/svg+xml": [
       "<?xml version=\"1.0\" encoding=\"utf-8\"?>\n",
       "<svg xmlns=\"http://www.w3.org/2000/svg\" xmlns:xlink=\"http://www.w3.org/1999/xlink\" width=\"1600\" height=\"800\" viewBox=\"0 0 6400 3200\">\n",
       "<defs>\n",
       "  <clipPath id=\"clip520\">\n",
       "    <rect x=\"0\" y=\"0\" width=\"6400\" height=\"3200\"/>\n",
       "  </clipPath>\n",
       "</defs>\n",
       "<path clip-path=\"url(#clip520)\" d=\"\n",
       "M0 3200 L6400 3200 L6400 0 L0 0  Z\n",
       "  \" fill=\"#ffffff\" fill-rule=\"evenodd\" fill-opacity=\"1\"/>\n",
       "<defs>\n",
       "  <clipPath id=\"clip521\">\n",
       "    <rect x=\"1280\" y=\"0\" width=\"4481\" height=\"3200\"/>\n",
       "  </clipPath>\n",
       "</defs>\n",
       "<path clip-path=\"url(#clip520)\" d=\"\n",
       "M214.862 3027.7 L3152.76 3027.7 L3152.76 47.2441 L214.862 47.2441  Z\n",
       "  \" fill=\"#ffffff\" fill-rule=\"evenodd\" fill-opacity=\"1\"/>\n",
       "<defs>\n",
       "  <clipPath id=\"clip522\">\n",
       "    <rect x=\"214\" y=\"47\" width=\"2939\" height=\"2981\"/>\n",
       "  </clipPath>\n",
       "</defs>\n",
       "<polyline clip-path=\"url(#clip522)\" style=\"stroke:#000000; stroke-width:2; stroke-opacity:0.1; fill:none\" points=\"\n",
       "  298.01,3027.7 298.01,47.2441 \n",
       "  \"/>\n",
       "<polyline clip-path=\"url(#clip522)\" style=\"stroke:#000000; stroke-width:2; stroke-opacity:0.1; fill:none\" points=\"\n",
       "  990.909,3027.7 990.909,47.2441 \n",
       "  \"/>\n",
       "<polyline clip-path=\"url(#clip522)\" style=\"stroke:#000000; stroke-width:2; stroke-opacity:0.1; fill:none\" points=\"\n",
       "  1683.81,3027.7 1683.81,47.2441 \n",
       "  \"/>\n",
       "<polyline clip-path=\"url(#clip522)\" style=\"stroke:#000000; stroke-width:2; stroke-opacity:0.1; fill:none\" points=\"\n",
       "  2376.71,3027.7 2376.71,47.2441 \n",
       "  \"/>\n",
       "<polyline clip-path=\"url(#clip522)\" style=\"stroke:#000000; stroke-width:2; stroke-opacity:0.1; fill:none\" points=\"\n",
       "  3069.61,3027.7 3069.61,47.2441 \n",
       "  \"/>\n",
       "<polyline clip-path=\"url(#clip522)\" style=\"stroke:#000000; stroke-width:2; stroke-opacity:0.1; fill:none\" points=\"\n",
       "  214.862,2943.37 3152.76,2943.37 \n",
       "  \"/>\n",
       "<polyline clip-path=\"url(#clip522)\" style=\"stroke:#000000; stroke-width:2; stroke-opacity:0.1; fill:none\" points=\"\n",
       "  214.862,2240.43 3152.76,2240.43 \n",
       "  \"/>\n",
       "<polyline clip-path=\"url(#clip522)\" style=\"stroke:#000000; stroke-width:2; stroke-opacity:0.1; fill:none\" points=\"\n",
       "  214.862,1537.49 3152.76,1537.49 \n",
       "  \"/>\n",
       "<polyline clip-path=\"url(#clip522)\" style=\"stroke:#000000; stroke-width:2; stroke-opacity:0.1; fill:none\" points=\"\n",
       "  214.862,834.556 3152.76,834.556 \n",
       "  \"/>\n",
       "<polyline clip-path=\"url(#clip522)\" style=\"stroke:#000000; stroke-width:2; stroke-opacity:0.1; fill:none\" points=\"\n",
       "  214.862,131.619 3152.76,131.619 \n",
       "  \"/>\n",
       "<polyline clip-path=\"url(#clip520)\" style=\"stroke:#000000; stroke-width:4; stroke-opacity:1; fill:none\" points=\"\n",
       "  214.862,3027.7 3152.76,3027.7 \n",
       "  \"/>\n",
       "<polyline clip-path=\"url(#clip520)\" style=\"stroke:#000000; stroke-width:4; stroke-opacity:1; fill:none\" points=\"\n",
       "  214.862,3027.7 214.862,47.2441 \n",
       "  \"/>\n",
       "<polyline clip-path=\"url(#clip520)\" style=\"stroke:#000000; stroke-width:4; stroke-opacity:1; fill:none\" points=\"\n",
       "  298.01,3027.7 298.01,2991.93 \n",
       "  \"/>\n",
       "<polyline clip-path=\"url(#clip520)\" style=\"stroke:#000000; stroke-width:4; stroke-opacity:1; fill:none\" points=\"\n",
       "  990.909,3027.7 990.909,2991.93 \n",
       "  \"/>\n",
       "<polyline clip-path=\"url(#clip520)\" style=\"stroke:#000000; stroke-width:4; stroke-opacity:1; fill:none\" points=\"\n",
       "  1683.81,3027.7 1683.81,2991.93 \n",
       "  \"/>\n",
       "<polyline clip-path=\"url(#clip520)\" style=\"stroke:#000000; stroke-width:4; stroke-opacity:1; fill:none\" points=\"\n",
       "  2376.71,3027.7 2376.71,2991.93 \n",
       "  \"/>\n",
       "<polyline clip-path=\"url(#clip520)\" style=\"stroke:#000000; stroke-width:4; stroke-opacity:1; fill:none\" points=\"\n",
       "  3069.61,3027.7 3069.61,2991.93 \n",
       "  \"/>\n",
       "<polyline clip-path=\"url(#clip520)\" style=\"stroke:#000000; stroke-width:4; stroke-opacity:1; fill:none\" points=\"\n",
       "  214.862,2943.37 250.117,2943.37 \n",
       "  \"/>\n",
       "<polyline clip-path=\"url(#clip520)\" style=\"stroke:#000000; stroke-width:4; stroke-opacity:1; fill:none\" points=\"\n",
       "  214.862,2240.43 250.117,2240.43 \n",
       "  \"/>\n",
       "<polyline clip-path=\"url(#clip520)\" style=\"stroke:#000000; stroke-width:4; stroke-opacity:1; fill:none\" points=\"\n",
       "  214.862,1537.49 250.117,1537.49 \n",
       "  \"/>\n",
       "<polyline clip-path=\"url(#clip520)\" style=\"stroke:#000000; stroke-width:4; stroke-opacity:1; fill:none\" points=\"\n",
       "  214.862,834.556 250.117,834.556 \n",
       "  \"/>\n",
       "<polyline clip-path=\"url(#clip520)\" style=\"stroke:#000000; stroke-width:4; stroke-opacity:1; fill:none\" points=\"\n",
       "  214.862,131.619 250.117,131.619 \n",
       "  \"/>\n",
       "<path clip-path=\"url(#clip520)\" d=\"M 0 0 M256.401 3097.24 L264.04 3097.24 L264.04 3070.87 L255.73 3072.54 L255.73 3068.28 L263.994 3066.61 L268.67 3066.61 L268.67 3097.24 L276.309 3097.24 L276.309 3101.17 L256.401 3101.17 L256.401 3097.24 Z\" fill=\"#000000\" fill-rule=\"evenodd\" fill-opacity=\"1\" /><path clip-path=\"url(#clip520)\" d=\"M 0 0 M281.378 3095.29 L286.262 3095.29 L286.262 3101.17 L281.378 3101.17 L281.378 3095.29 Z\" fill=\"#000000\" fill-rule=\"evenodd\" fill-opacity=\"1\" /><path clip-path=\"url(#clip520)\" d=\"M 0 0 M301.332 3069.69 Q297.721 3069.69 295.892 3073.26 Q294.086 3076.8 294.086 3083.93 Q294.086 3091.03 295.892 3094.6 Q297.721 3098.14 301.332 3098.14 Q304.966 3098.14 306.771 3094.6 Q308.6 3091.03 308.6 3083.93 Q308.6 3076.8 306.771 3073.26 Q304.966 3069.69 301.332 3069.69 M301.332 3065.99 Q307.142 3065.99 310.197 3070.59 Q313.276 3075.18 313.276 3083.93 Q313.276 3092.65 310.197 3097.26 Q307.142 3101.84 301.332 3101.84 Q295.522 3101.84 292.443 3097.26 Q289.387 3092.65 289.387 3083.93 Q289.387 3075.18 292.443 3070.59 Q295.522 3065.99 301.332 3065.99 Z\" fill=\"#000000\" fill-rule=\"evenodd\" fill-opacity=\"1\" /><path clip-path=\"url(#clip520)\" d=\"M 0 0 M328.345 3069.69 Q324.734 3069.69 322.906 3073.26 Q321.1 3076.8 321.1 3083.93 Q321.1 3091.03 322.906 3094.6 Q324.734 3098.14 328.345 3098.14 Q331.98 3098.14 333.785 3094.6 Q335.614 3091.03 335.614 3083.93 Q335.614 3076.8 333.785 3073.26 Q331.98 3069.69 328.345 3069.69 M328.345 3065.99 Q334.156 3065.99 337.211 3070.59 Q340.29 3075.18 340.29 3083.93 Q340.29 3092.65 337.211 3097.26 Q334.156 3101.84 328.345 3101.84 Q322.535 3101.84 319.457 3097.26 Q316.401 3092.65 316.401 3083.93 Q316.401 3075.18 319.457 3070.59 Q322.535 3065.99 328.345 3065.99 Z\" fill=\"#000000\" fill-rule=\"evenodd\" fill-opacity=\"1\" /><path clip-path=\"url(#clip520)\" d=\"M 0 0 M950.597 3097.24 L958.236 3097.24 L958.236 3070.87 L949.926 3072.54 L949.926 3068.28 L958.19 3066.61 L962.866 3066.61 L962.866 3097.24 L970.504 3097.24 L970.504 3101.17 L950.597 3101.17 L950.597 3097.24 Z\" fill=\"#000000\" fill-rule=\"evenodd\" fill-opacity=\"1\" /><path clip-path=\"url(#clip520)\" d=\"M 0 0 M975.574 3095.29 L980.458 3095.29 L980.458 3101.17 L975.574 3101.17 L975.574 3095.29 Z\" fill=\"#000000\" fill-rule=\"evenodd\" fill-opacity=\"1\" /><path clip-path=\"url(#clip520)\" d=\"M 0 0 M989.555 3097.24 L1005.87 3097.24 L1005.87 3101.17 L983.93 3101.17 L983.93 3097.24 Q986.592 3094.48 991.176 3089.85 Q995.782 3085.2 996.963 3083.86 Q999.208 3081.33 1000.09 3079.6 Q1000.99 3077.84 1000.99 3076.15 Q1000.99 3073.39 999.046 3071.66 Q997.125 3069.92 994.023 3069.92 Q991.824 3069.92 989.37 3070.69 Q986.94 3071.45 984.162 3073 L984.162 3068.28 Q986.986 3067.14 989.44 3066.57 Q991.893 3065.99 993.93 3065.99 Q999.301 3065.99 1002.5 3068.67 Q1005.69 3071.36 1005.69 3075.85 Q1005.69 3077.98 1004.88 3079.9 Q1004.09 3081.8 1001.99 3084.39 Q1001.41 3085.06 998.305 3088.28 Q995.203 3091.47 989.555 3097.24 Z\" fill=\"#000000\" fill-rule=\"evenodd\" fill-opacity=\"1\" /><path clip-path=\"url(#clip520)\" d=\"M 0 0 M1010.99 3066.61 L1029.35 3066.61 L1029.35 3070.55 L1015.27 3070.55 L1015.27 3079.02 Q1016.29 3078.67 1017.31 3078.51 Q1018.33 3078.32 1019.35 3078.32 Q1025.13 3078.32 1028.51 3081.5 Q1031.89 3084.67 1031.89 3090.08 Q1031.89 3095.66 1028.42 3098.76 Q1024.95 3101.84 1018.63 3101.84 Q1016.45 3101.84 1014.18 3101.47 Q1011.94 3101.1 1009.53 3100.36 L1009.53 3095.66 Q1011.62 3096.8 1013.84 3097.35 Q1016.06 3097.91 1018.54 3097.91 Q1022.54 3097.91 1024.88 3095.8 Q1027.22 3093.7 1027.22 3090.08 Q1027.22 3086.47 1024.88 3084.37 Q1022.54 3082.26 1018.54 3082.26 Q1016.66 3082.26 1014.79 3082.68 Q1012.93 3083.09 1010.99 3083.97 L1010.99 3066.61 Z\" fill=\"#000000\" fill-rule=\"evenodd\" fill-opacity=\"1\" /><path clip-path=\"url(#clip520)\" d=\"M 0 0 M1642.7 3097.24 L1650.34 3097.24 L1650.34 3070.87 L1642.03 3072.54 L1642.03 3068.28 L1650.29 3066.61 L1654.97 3066.61 L1654.97 3097.24 L1662.61 3097.24 L1662.61 3101.17 L1642.7 3101.17 L1642.7 3097.24 Z\" fill=\"#000000\" fill-rule=\"evenodd\" fill-opacity=\"1\" /><path clip-path=\"url(#clip520)\" d=\"M 0 0 M1667.67 3095.29 L1672.56 3095.29 L1672.56 3101.17 L1667.67 3101.17 L1667.67 3095.29 Z\" fill=\"#000000\" fill-rule=\"evenodd\" fill-opacity=\"1\" /><path clip-path=\"url(#clip520)\" d=\"M 0 0 M1677.67 3066.61 L1696.03 3066.61 L1696.03 3070.55 L1681.96 3070.55 L1681.96 3079.02 Q1682.98 3078.67 1683.99 3078.51 Q1685.01 3078.32 1686.03 3078.32 Q1691.82 3078.32 1695.2 3081.5 Q1698.58 3084.67 1698.58 3090.08 Q1698.58 3095.66 1695.11 3098.76 Q1691.63 3101.84 1685.31 3101.84 Q1683.14 3101.84 1680.87 3101.47 Q1678.62 3101.1 1676.22 3100.36 L1676.22 3095.66 Q1678.3 3096.8 1680.52 3097.35 Q1682.74 3097.91 1685.22 3097.91 Q1689.23 3097.91 1691.56 3095.8 Q1693.9 3093.7 1693.9 3090.08 Q1693.9 3086.47 1691.56 3084.37 Q1689.23 3082.26 1685.22 3082.26 Q1683.35 3082.26 1681.47 3082.68 Q1679.62 3083.09 1677.67 3083.97 L1677.67 3066.61 Z\" fill=\"#000000\" fill-rule=\"evenodd\" fill-opacity=\"1\" /><path clip-path=\"url(#clip520)\" d=\"M 0 0 M1713.65 3069.69 Q1710.04 3069.69 1708.21 3073.26 Q1706.4 3076.8 1706.4 3083.93 Q1706.4 3091.03 1708.21 3094.6 Q1710.04 3098.14 1713.65 3098.14 Q1717.28 3098.14 1719.09 3094.6 Q1720.92 3091.03 1720.92 3083.93 Q1720.92 3076.8 1719.09 3073.26 Q1717.28 3069.69 1713.65 3069.69 M1713.65 3065.99 Q1719.46 3065.99 1722.51 3070.59 Q1725.59 3075.18 1725.59 3083.93 Q1725.59 3092.65 1722.51 3097.26 Q1719.46 3101.84 1713.65 3101.84 Q1707.84 3101.84 1704.76 3097.26 Q1701.7 3092.65 1701.7 3083.93 Q1701.7 3075.18 1704.76 3070.59 Q1707.84 3065.99 1713.65 3065.99 Z\" fill=\"#000000\" fill-rule=\"evenodd\" fill-opacity=\"1\" /><path clip-path=\"url(#clip520)\" d=\"M 0 0 M2336.05 3097.24 L2343.69 3097.24 L2343.69 3070.87 L2335.38 3072.54 L2335.38 3068.28 L2343.64 3066.61 L2348.32 3066.61 L2348.32 3097.24 L2355.96 3097.24 L2355.96 3101.17 L2336.05 3101.17 L2336.05 3097.24 Z\" fill=\"#000000\" fill-rule=\"evenodd\" fill-opacity=\"1\" /><path clip-path=\"url(#clip520)\" d=\"M 0 0 M2361.03 3095.29 L2365.91 3095.29 L2365.91 3101.17 L2361.03 3101.17 L2361.03 3095.29 Z\" fill=\"#000000\" fill-rule=\"evenodd\" fill-opacity=\"1\" /><path clip-path=\"url(#clip520)\" d=\"M 0 0 M2369.8 3066.61 L2392.02 3066.61 L2392.02 3068.6 L2379.47 3101.17 L2374.59 3101.17 L2386.4 3070.55 L2369.8 3070.55 L2369.8 3066.61 Z\" fill=\"#000000\" fill-rule=\"evenodd\" fill-opacity=\"1\" /><path clip-path=\"url(#clip520)\" d=\"M 0 0 M2397.14 3066.61 L2415.49 3066.61 L2415.49 3070.55 L2401.42 3070.55 L2401.42 3079.02 Q2402.44 3078.67 2403.46 3078.51 Q2404.47 3078.32 2405.49 3078.32 Q2411.28 3078.32 2414.66 3081.5 Q2418.04 3084.67 2418.04 3090.08 Q2418.04 3095.66 2414.57 3098.76 Q2411.09 3101.84 2404.78 3101.84 Q2402.6 3101.84 2400.33 3101.47 Q2398.09 3101.1 2395.68 3100.36 L2395.68 3095.66 Q2397.76 3096.8 2399.98 3097.35 Q2402.21 3097.91 2404.68 3097.91 Q2408.69 3097.91 2411.03 3095.8 Q2413.36 3093.7 2413.36 3090.08 Q2413.36 3086.47 2411.03 3084.37 Q2408.69 3082.26 2404.68 3082.26 Q2402.81 3082.26 2400.93 3082.68 Q2399.08 3083.09 2397.14 3083.97 L2397.14 3066.61 Z\" fill=\"#000000\" fill-rule=\"evenodd\" fill-opacity=\"1\" /><path clip-path=\"url(#clip520)\" d=\"M 0 0 M3032.27 3097.24 L3048.59 3097.24 L3048.59 3101.17 L3026.65 3101.17 L3026.65 3097.24 Q3029.31 3094.48 3033.89 3089.85 Q3038.5 3085.2 3039.68 3083.86 Q3041.92 3081.33 3042.8 3079.6 Q3043.71 3077.84 3043.71 3076.15 Q3043.71 3073.39 3041.76 3071.66 Q3039.84 3069.92 3036.74 3069.92 Q3034.54 3069.92 3032.09 3070.69 Q3029.65 3071.45 3026.88 3073 L3026.88 3068.28 Q3029.7 3067.14 3032.15 3066.57 Q3034.61 3065.99 3036.65 3065.99 Q3042.02 3065.99 3045.21 3068.67 Q3048.4 3071.36 3048.4 3075.85 Q3048.4 3077.98 3047.59 3079.9 Q3046.81 3081.8 3044.7 3084.39 Q3044.12 3085.06 3041.02 3088.28 Q3037.92 3091.47 3032.27 3097.24 Z\" fill=\"#000000\" fill-rule=\"evenodd\" fill-opacity=\"1\" /><path clip-path=\"url(#clip520)\" d=\"M 0 0 M3053.66 3095.29 L3058.54 3095.29 L3058.54 3101.17 L3053.66 3101.17 L3053.66 3095.29 Z\" fill=\"#000000\" fill-rule=\"evenodd\" fill-opacity=\"1\" /><path clip-path=\"url(#clip520)\" d=\"M 0 0 M3073.61 3069.69 Q3070 3069.69 3068.17 3073.26 Q3066.37 3076.8 3066.37 3083.93 Q3066.37 3091.03 3068.17 3094.6 Q3070 3098.14 3073.61 3098.14 Q3077.25 3098.14 3079.05 3094.6 Q3080.88 3091.03 3080.88 3083.93 Q3080.88 3076.8 3079.05 3073.26 Q3077.25 3069.69 3073.61 3069.69 M3073.61 3065.99 Q3079.42 3065.99 3082.48 3070.59 Q3085.56 3075.18 3085.56 3083.93 Q3085.56 3092.65 3082.48 3097.26 Q3079.42 3101.84 3073.61 3101.84 Q3067.8 3101.84 3064.72 3097.26 Q3061.67 3092.65 3061.67 3083.93 Q3061.67 3075.18 3064.72 3070.59 Q3067.8 3065.99 3073.61 3065.99 Z\" fill=\"#000000\" fill-rule=\"evenodd\" fill-opacity=\"1\" /><path clip-path=\"url(#clip520)\" d=\"M 0 0 M3100.63 3069.69 Q3097.02 3069.69 3095.19 3073.26 Q3093.38 3076.8 3093.38 3083.93 Q3093.38 3091.03 3095.19 3094.6 Q3097.02 3098.14 3100.63 3098.14 Q3104.26 3098.14 3106.07 3094.6 Q3107.89 3091.03 3107.89 3083.93 Q3107.89 3076.8 3106.07 3073.26 Q3104.26 3069.69 3100.63 3069.69 M3100.63 3065.99 Q3106.44 3065.99 3109.49 3070.59 Q3112.57 3075.18 3112.57 3083.93 Q3112.57 3092.65 3109.49 3097.26 Q3106.44 3101.84 3100.63 3101.84 Q3094.82 3101.84 3091.74 3097.26 Q3088.68 3092.65 3088.68 3083.93 Q3088.68 3075.18 3091.74 3070.59 Q3094.82 3065.99 3100.63 3065.99 Z\" fill=\"#000000\" fill-rule=\"evenodd\" fill-opacity=\"1\" /><path clip-path=\"url(#clip520)\" d=\"M 0 0 M74.9365 2929.17 Q71.3254 2929.17 69.4967 2932.73 Q67.6912 2936.27 67.6912 2943.4 Q67.6912 2950.51 69.4967 2954.08 Q71.3254 2957.62 74.9365 2957.62 Q78.5707 2957.62 80.3763 2954.08 Q82.205 2950.51 82.205 2943.4 Q82.205 2936.27 80.3763 2932.73 Q78.5707 2929.17 74.9365 2929.17 M74.9365 2925.46 Q80.7467 2925.46 83.8022 2930.07 Q86.8809 2934.65 86.8809 2943.4 Q86.8809 2952.13 83.8022 2956.74 Q80.7467 2961.32 74.9365 2961.32 Q69.1264 2961.32 66.0477 2956.74 Q62.9921 2952.13 62.9921 2943.4 Q62.9921 2934.65 66.0477 2930.07 Q69.1264 2925.46 74.9365 2925.46 Z\" fill=\"#000000\" fill-rule=\"evenodd\" fill-opacity=\"1\" /><path clip-path=\"url(#clip520)\" d=\"M 0 0 M91.9503 2954.77 L96.8345 2954.77 L96.8345 2960.65 L91.9503 2960.65 L91.9503 2954.77 Z\" fill=\"#000000\" fill-rule=\"evenodd\" fill-opacity=\"1\" /><path clip-path=\"url(#clip520)\" d=\"M 0 0 M111.904 2929.17 Q108.293 2929.17 106.464 2932.73 Q104.659 2936.27 104.659 2943.4 Q104.659 2950.51 106.464 2954.08 Q108.293 2957.62 111.904 2957.62 Q115.538 2957.62 117.344 2954.08 Q119.172 2950.51 119.172 2943.4 Q119.172 2936.27 117.344 2932.73 Q115.538 2929.17 111.904 2929.17 M111.904 2925.46 Q117.714 2925.46 120.77 2930.07 Q123.848 2934.65 123.848 2943.4 Q123.848 2952.13 120.77 2956.74 Q117.714 2961.32 111.904 2961.32 Q106.094 2961.32 103.015 2956.74 Q99.9595 2952.13 99.9595 2943.4 Q99.9595 2934.65 103.015 2930.07 Q106.094 2925.46 111.904 2925.46 Z\" fill=\"#000000\" fill-rule=\"evenodd\" fill-opacity=\"1\" /><path clip-path=\"url(#clip520)\" d=\"M 0 0 M138.918 2929.17 Q135.307 2929.17 133.478 2932.73 Q131.672 2936.27 131.672 2943.4 Q131.672 2950.51 133.478 2954.08 Q135.307 2957.62 138.918 2957.62 Q142.552 2957.62 144.357 2954.08 Q146.186 2950.51 146.186 2943.4 Q146.186 2936.27 144.357 2932.73 Q142.552 2929.17 138.918 2929.17 M138.918 2925.46 Q144.728 2925.46 147.783 2930.07 Q150.862 2934.65 150.862 2943.4 Q150.862 2952.13 147.783 2956.74 Q144.728 2961.32 138.918 2961.32 Q133.107 2961.32 130.029 2956.74 Q126.973 2952.13 126.973 2943.4 Q126.973 2934.65 130.029 2930.07 Q133.107 2925.46 138.918 2925.46 Z\" fill=\"#000000\" fill-rule=\"evenodd\" fill-opacity=\"1\" /><path clip-path=\"url(#clip520)\" d=\"M 0 0 M77.5291 2226.23 Q73.918 2226.23 72.0893 2229.8 Q70.2838 2233.34 70.2838 2240.47 Q70.2838 2247.57 72.0893 2251.14 Q73.918 2254.68 77.5291 2254.68 Q81.1633 2254.68 82.9689 2251.14 Q84.7976 2247.57 84.7976 2240.47 Q84.7976 2233.34 82.9689 2229.8 Q81.1633 2226.23 77.5291 2226.23 M77.5291 2222.53 Q83.3392 2222.53 86.3948 2227.13 Q89.4735 2231.72 89.4735 2240.47 Q89.4735 2249.19 86.3948 2253.8 Q83.3392 2258.38 77.5291 2258.38 Q71.7189 2258.38 68.6402 2253.8 Q65.5847 2249.19 65.5847 2240.47 Q65.5847 2231.72 68.6402 2227.13 Q71.7189 2222.53 77.5291 2222.53 Z\" fill=\"#000000\" fill-rule=\"evenodd\" fill-opacity=\"1\" /><path clip-path=\"url(#clip520)\" d=\"M 0 0 M94.5429 2251.83 L99.4271 2251.83 L99.4271 2257.71 L94.5429 2257.71 L94.5429 2251.83 Z\" fill=\"#000000\" fill-rule=\"evenodd\" fill-opacity=\"1\" /><path clip-path=\"url(#clip520)\" d=\"M 0 0 M108.524 2253.78 L124.844 2253.78 L124.844 2257.71 L102.899 2257.71 L102.899 2253.78 Q105.561 2251.02 110.145 2246.39 Q114.751 2241.74 115.932 2240.4 Q118.177 2237.87 119.057 2236.14 Q119.959 2234.38 119.959 2232.69 Q119.959 2229.93 118.015 2228.2 Q116.094 2226.46 112.992 2226.46 Q110.793 2226.46 108.339 2227.23 Q105.909 2227.99 103.131 2229.54 L103.131 2224.82 Q105.955 2223.68 108.409 2223.11 Q110.862 2222.53 112.899 2222.53 Q118.27 2222.53 121.464 2225.21 Q124.658 2227.9 124.658 2232.39 Q124.658 2234.52 123.848 2236.44 Q123.061 2238.34 120.955 2240.93 Q120.376 2241.6 117.274 2244.82 Q114.172 2248.01 108.524 2253.78 Z\" fill=\"#000000\" fill-rule=\"evenodd\" fill-opacity=\"1\" /><path clip-path=\"url(#clip520)\" d=\"M 0 0 M129.959 2223.15 L148.316 2223.15 L148.316 2227.09 L134.242 2227.09 L134.242 2235.56 Q135.26 2235.21 136.279 2235.05 Q137.297 2234.86 138.316 2234.86 Q144.103 2234.86 147.482 2238.04 Q150.862 2241.21 150.862 2246.62 Q150.862 2252.2 147.39 2255.3 Q143.918 2258.38 137.598 2258.38 Q135.422 2258.38 133.154 2258.01 Q130.908 2257.64 128.501 2256.9 L128.501 2252.2 Q130.584 2253.34 132.807 2253.89 Q135.029 2254.45 137.506 2254.45 Q141.51 2254.45 143.848 2252.34 Q146.186 2250.23 146.186 2246.62 Q146.186 2243.01 143.848 2240.91 Q141.51 2238.8 137.506 2238.8 Q135.631 2238.8 133.756 2239.22 Q131.904 2239.63 129.959 2240.51 L129.959 2223.15 Z\" fill=\"#000000\" fill-rule=\"evenodd\" fill-opacity=\"1\" /><path clip-path=\"url(#clip520)\" d=\"M 0 0 M75.9319 1523.29 Q72.3208 1523.29 70.4921 1526.86 Q68.6865 1530.4 68.6865 1537.53 Q68.6865 1544.64 70.4921 1548.2 Q72.3208 1551.74 75.9319 1551.74 Q79.5661 1551.74 81.3717 1548.2 Q83.2004 1544.64 83.2004 1537.53 Q83.2004 1530.4 81.3717 1526.86 Q79.5661 1523.29 75.9319 1523.29 M75.9319 1519.59 Q81.742 1519.59 84.7976 1524.2 Q87.8763 1528.78 87.8763 1537.53 Q87.8763 1546.26 84.7976 1550.86 Q81.742 1555.45 75.9319 1555.45 Q70.1217 1555.45 67.043 1550.86 Q63.9875 1546.26 63.9875 1537.53 Q63.9875 1528.78 67.043 1524.2 Q70.1217 1519.59 75.9319 1519.59 Z\" fill=\"#000000\" fill-rule=\"evenodd\" fill-opacity=\"1\" /><path clip-path=\"url(#clip520)\" d=\"M 0 0 M92.9457 1548.89 L97.8299 1548.89 L97.8299 1554.77 L92.9457 1554.77 L92.9457 1548.89 Z\" fill=\"#000000\" fill-rule=\"evenodd\" fill-opacity=\"1\" /><path clip-path=\"url(#clip520)\" d=\"M 0 0 M102.946 1520.21 L121.302 1520.21 L121.302 1524.15 L107.228 1524.15 L107.228 1532.62 Q108.247 1532.27 109.265 1532.11 Q110.284 1531.93 111.302 1531.93 Q117.089 1531.93 120.469 1535.1 Q123.848 1538.27 123.848 1543.69 Q123.848 1549.26 120.376 1552.37 Q116.904 1555.45 110.584 1555.45 Q108.409 1555.45 106.14 1555.08 Q103.895 1554.7 101.487 1553.96 L101.487 1549.26 Q103.571 1550.4 105.793 1550.95 Q108.015 1551.51 110.492 1551.51 Q114.496 1551.51 116.834 1549.4 Q119.172 1547.3 119.172 1543.69 Q119.172 1540.08 116.834 1537.97 Q114.496 1535.86 110.492 1535.86 Q108.617 1535.86 106.742 1536.28 Q104.89 1536.7 102.946 1537.58 L102.946 1520.21 Z\" fill=\"#000000\" fill-rule=\"evenodd\" fill-opacity=\"1\" /><path clip-path=\"url(#clip520)\" d=\"M 0 0 M138.918 1523.29 Q135.307 1523.29 133.478 1526.86 Q131.672 1530.4 131.672 1537.53 Q131.672 1544.64 133.478 1548.2 Q135.307 1551.74 138.918 1551.74 Q142.552 1551.74 144.357 1548.2 Q146.186 1544.64 146.186 1537.53 Q146.186 1530.4 144.357 1526.86 Q142.552 1523.29 138.918 1523.29 M138.918 1519.59 Q144.728 1519.59 147.783 1524.2 Q150.862 1528.78 150.862 1537.53 Q150.862 1546.26 147.783 1550.86 Q144.728 1555.45 138.918 1555.45 Q133.107 1555.45 130.029 1550.86 Q126.973 1546.26 126.973 1537.53 Q126.973 1528.78 130.029 1524.2 Q133.107 1519.59 138.918 1519.59 Z\" fill=\"#000000\" fill-rule=\"evenodd\" fill-opacity=\"1\" /><path clip-path=\"url(#clip520)\" d=\"M 0 0 M76.8346 820.355 Q73.2236 820.355 71.3949 823.92 Q69.5893 827.462 69.5893 834.591 Q69.5893 841.698 71.3949 845.262 Q73.2236 848.804 76.8346 848.804 Q80.4689 848.804 82.2744 845.262 Q84.1031 841.698 84.1031 834.591 Q84.1031 827.462 82.2744 823.92 Q80.4689 820.355 76.8346 820.355 M76.8346 816.651 Q82.6448 816.651 85.7003 821.258 Q88.779 825.841 88.779 834.591 Q88.779 843.318 85.7003 847.924 Q82.6448 852.508 76.8346 852.508 Q71.0245 852.508 67.9458 847.924 Q64.8903 843.318 64.8903 834.591 Q64.8903 825.841 67.9458 821.258 Q71.0245 816.651 76.8346 816.651 Z\" fill=\"#000000\" fill-rule=\"evenodd\" fill-opacity=\"1\" /><path clip-path=\"url(#clip520)\" d=\"M 0 0 M93.8484 845.957 L98.7327 845.957 L98.7327 851.836 L93.8484 851.836 L93.8484 845.957 Z\" fill=\"#000000\" fill-rule=\"evenodd\" fill-opacity=\"1\" /><path clip-path=\"url(#clip520)\" d=\"M 0 0 M102.622 817.276 L124.844 817.276 L124.844 819.267 L112.297 851.836 L107.413 851.836 L119.219 821.212 L102.622 821.212 L102.622 817.276 Z\" fill=\"#000000\" fill-rule=\"evenodd\" fill-opacity=\"1\" /><path clip-path=\"url(#clip520)\" d=\"M 0 0 M129.959 817.276 L148.316 817.276 L148.316 821.212 L134.242 821.212 L134.242 829.684 Q135.26 829.337 136.279 829.175 Q137.297 828.989 138.316 828.989 Q144.103 828.989 147.482 832.161 Q150.862 835.332 150.862 840.749 Q150.862 846.327 147.39 849.429 Q143.918 852.508 137.598 852.508 Q135.422 852.508 133.154 852.137 Q130.908 851.767 128.501 851.026 L128.501 846.327 Q130.584 847.461 132.807 848.017 Q135.029 848.573 137.506 848.573 Q141.51 848.573 143.848 846.466 Q146.186 844.36 146.186 840.749 Q146.186 837.137 143.848 835.031 Q141.51 832.925 137.506 832.925 Q135.631 832.925 133.756 833.341 Q131.904 833.758 129.959 834.637 L129.959 817.276 Z\" fill=\"#000000\" fill-rule=\"evenodd\" fill-opacity=\"1\" /><path clip-path=\"url(#clip520)\" d=\"M 0 0 M66.9736 144.964 L74.6124 144.964 L74.6124 118.598 L66.3023 120.265 L66.3023 116.005 L74.5661 114.339 L79.242 114.339 L79.242 144.964 L86.8809 144.964 L86.8809 148.899 L66.9736 148.899 L66.9736 144.964 Z\" fill=\"#000000\" fill-rule=\"evenodd\" fill-opacity=\"1\" /><path clip-path=\"url(#clip520)\" d=\"M 0 0 M91.9503 143.019 L96.8345 143.019 L96.8345 148.899 L91.9503 148.899 L91.9503 143.019 Z\" fill=\"#000000\" fill-rule=\"evenodd\" fill-opacity=\"1\" /><path clip-path=\"url(#clip520)\" d=\"M 0 0 M111.904 117.417 Q108.293 117.417 106.464 120.982 Q104.659 124.524 104.659 131.654 Q104.659 138.76 106.464 142.325 Q108.293 145.866 111.904 145.866 Q115.538 145.866 117.344 142.325 Q119.172 138.76 119.172 131.654 Q119.172 124.524 117.344 120.982 Q115.538 117.417 111.904 117.417 M111.904 113.714 Q117.714 113.714 120.77 118.32 Q123.848 122.904 123.848 131.654 Q123.848 140.38 120.77 144.987 Q117.714 149.57 111.904 149.57 Q106.094 149.57 103.015 144.987 Q99.9595 140.38 99.9595 131.654 Q99.9595 122.904 103.015 118.32 Q106.094 113.714 111.904 113.714 Z\" fill=\"#000000\" fill-rule=\"evenodd\" fill-opacity=\"1\" /><path clip-path=\"url(#clip520)\" d=\"M 0 0 M138.918 117.417 Q135.307 117.417 133.478 120.982 Q131.672 124.524 131.672 131.654 Q131.672 138.76 133.478 142.325 Q135.307 145.866 138.918 145.866 Q142.552 145.866 144.357 142.325 Q146.186 138.76 146.186 131.654 Q146.186 124.524 144.357 120.982 Q142.552 117.417 138.918 117.417 M138.918 113.714 Q144.728 113.714 147.783 118.32 Q150.862 122.904 150.862 131.654 Q150.862 140.38 147.783 144.987 Q144.728 149.57 138.918 149.57 Q133.107 149.57 130.029 144.987 Q126.973 140.38 126.973 131.654 Q126.973 122.904 130.029 118.32 Q133.107 113.714 138.918 113.714 Z\" fill=\"#000000\" fill-rule=\"evenodd\" fill-opacity=\"1\" /><path clip-path=\"url(#clip520)\" d=\"M 0 0 M1587.19 3154.79 L1587.19 3164.92 L1599.26 3164.92 L1599.26 3169.47 L1587.19 3169.47 L1587.19 3188.82 Q1587.19 3193.18 1588.37 3194.42 Q1589.58 3195.66 1593.24 3195.66 L1599.26 3195.66 L1599.26 3200.56 L1593.24 3200.56 Q1586.46 3200.56 1583.88 3198.05 Q1581.31 3195.5 1581.31 3188.82 L1581.31 3169.47 L1577.01 3169.47 L1577.01 3164.92 L1581.31 3164.92 L1581.31 3154.79 L1587.19 3154.79 Z\" fill=\"#000000\" fill-rule=\"evenodd\" fill-opacity=\"1\" /><path clip-path=\"url(#clip520)\" d=\"M 0 0 M1605.4 3164.92 L1611.26 3164.92 L1611.26 3200.56 L1605.4 3200.56 L1605.4 3164.92 M1605.4 3151.04 L1611.26 3151.04 L1611.26 3158.45 L1605.4 3158.45 L1605.4 3151.04 Z\" fill=\"#000000\" fill-rule=\"evenodd\" fill-opacity=\"1\" /><path clip-path=\"url(#clip520)\" d=\"M 0 0 M1645.15 3171.76 Q1647.35 3167.81 1650.4 3165.93 Q1653.46 3164.06 1657.6 3164.06 Q1663.17 3164.06 1666.19 3167.97 Q1669.22 3171.85 1669.22 3179.05 L1669.22 3200.56 L1663.33 3200.56 L1663.33 3179.24 Q1663.33 3174.11 1661.51 3171.63 Q1659.7 3169.15 1655.97 3169.15 Q1651.42 3169.15 1648.78 3172.17 Q1646.14 3175.2 1646.14 3180.42 L1646.14 3200.56 L1640.25 3200.56 L1640.25 3179.24 Q1640.25 3174.08 1638.44 3171.63 Q1636.62 3169.15 1632.84 3169.15 Q1628.35 3169.15 1625.71 3172.2 Q1623.06 3175.23 1623.06 3180.42 L1623.06 3200.56 L1617.18 3200.56 L1617.18 3164.92 L1623.06 3164.92 L1623.06 3170.45 Q1625.07 3167.18 1627.87 3165.62 Q1630.67 3164.06 1634.52 3164.06 Q1638.41 3164.06 1641.11 3166.03 Q1643.85 3168 1645.15 3171.76 Z\" fill=\"#000000\" fill-rule=\"evenodd\" fill-opacity=\"1\" /><path clip-path=\"url(#clip520)\" d=\"M 0 0 M1705.85 3181.28 L1705.85 3184.14 L1678.92 3184.14 Q1679.31 3190.19 1682.55 3193.37 Q1685.83 3196.52 1691.65 3196.52 Q1695.03 3196.52 1698.18 3195.69 Q1701.36 3194.87 1704.48 3193.21 L1704.48 3198.75 Q1701.33 3200.09 1698.02 3200.79 Q1694.71 3201.49 1691.3 3201.49 Q1682.77 3201.49 1677.78 3196.52 Q1672.81 3191.56 1672.81 3183.09 Q1672.81 3174.34 1677.52 3169.21 Q1682.27 3164.06 1690.29 3164.06 Q1697.48 3164.06 1701.65 3168.7 Q1705.85 3173.32 1705.85 3181.28 M1699.99 3179.56 Q1699.93 3174.75 1697.29 3171.89 Q1694.68 3169.02 1690.35 3169.02 Q1685.45 3169.02 1682.49 3171.79 Q1679.56 3174.56 1679.11 3179.59 L1699.99 3179.56 Z\" fill=\"#000000\" fill-rule=\"evenodd\" fill-opacity=\"1\" /><path clip-path=\"url(#clip520)\" d=\"M 0 0 M1746.78 3151.1 Q1742.52 3158.42 1740.45 3165.58 Q1738.38 3172.75 1738.38 3180.1 Q1738.38 3187.45 1740.45 3194.68 Q1742.55 3201.87 1746.78 3209.16 L1741.69 3209.16 Q1736.91 3201.68 1734.53 3194.45 Q1732.17 3187.23 1732.17 3180.1 Q1732.17 3173 1734.53 3165.81 Q1736.88 3158.61 1741.69 3151.1 L1746.78 3151.1 Z\" fill=\"#000000\" fill-rule=\"evenodd\" fill-opacity=\"1\" /><path clip-path=\"url(#clip520)\" d=\"M 0 0 M1758.72 3154.79 L1758.72 3164.92 L1770.78 3164.92 L1770.78 3169.47 L1758.72 3169.47 L1758.72 3188.82 Q1758.72 3193.18 1759.9 3194.42 Q1761.1 3195.66 1764.76 3195.66 L1770.78 3195.66 L1770.78 3200.56 L1764.76 3200.56 Q1757.99 3200.56 1755.41 3198.05 Q1752.83 3195.5 1752.83 3188.82 L1752.83 3169.47 L1748.53 3169.47 L1748.53 3164.92 L1752.83 3164.92 L1752.83 3154.79 L1758.72 3154.79 Z\" fill=\"#000000\" fill-rule=\"evenodd\" fill-opacity=\"1\" /><path clip-path=\"url(#clip520)\" d=\"M 0 0 M1776 3151.1 L1781.09 3151.1 Q1785.87 3158.61 1788.22 3165.81 Q1790.61 3173 1790.61 3180.1 Q1790.61 3187.23 1788.22 3194.45 Q1785.87 3201.68 1781.09 3209.16 L1776 3209.16 Q1780.23 3201.87 1782.3 3194.68 Q1784.4 3187.45 1784.4 3180.1 Q1784.4 3172.75 1782.3 3165.58 Q1780.23 3158.42 1776 3151.1 Z\" fill=\"#000000\" fill-rule=\"evenodd\" fill-opacity=\"1\" /><path clip-path=\"url(#clip520)\" d=\"\n",
       "M2247.01 491.724 L2960.76 491.724 L2960.76 370.764 L2247.01 370.764  Z\n",
       "  \" fill=\"#ffffff\" fill-rule=\"evenodd\" fill-opacity=\"1\"/>\n",
       "<polyline clip-path=\"url(#clip520)\" style=\"stroke:#000000; stroke-width:4; stroke-opacity:1; fill:none\" points=\"\n",
       "  2247.01,491.724 2960.76,491.724 2960.76,370.764 2247.01,370.764 2247.01,491.724 \n",
       "  \"/>\n",
       "<polyline clip-path=\"url(#clip520)\" style=\"stroke:#ff0000; stroke-width:4; stroke-opacity:1; fill:none\" points=\"\n",
       "  2311.01,431.244 2695.01,431.244 \n",
       "  \"/>\n",
       "<path clip-path=\"url(#clip520)\" d=\"M 0 0 M2778.27 432.089 L2763.52 432.089 Q2763.87 439.01 2765.46 441.95 Q2767.46 445.561 2770.9 445.561 Q2774.38 445.561 2776.3 441.927 Q2777.99 438.732 2778.27 432.089 M2778.2 428.154 Q2777.55 421.58 2776.3 419.265 Q2774.31 415.608 2770.9 415.608 Q2767.36 415.608 2765.49 419.219 Q2764.01 422.135 2763.57 428.154 L2778.2 428.154 M2770.9 412.135 Q2776.46 412.135 2779.63 417.043 Q2782.8 421.927 2782.8 430.584 Q2782.8 439.219 2779.63 444.126 Q2776.46 449.056 2770.9 449.056 Q2765.33 449.056 2762.18 444.126 Q2759.01 439.219 2759.01 430.584 Q2759.01 421.927 2762.18 417.043 Q2765.33 412.135 2770.9 412.135 Z\" fill=\"#000000\" fill-rule=\"evenodd\" fill-opacity=\"1\" /><path clip-path=\"url(#clip520)\" d=\"M 0 0 M2806.97 456.394 L2806.97 459.705 L2782.34 459.705 L2782.34 456.394 L2806.97 456.394 Z\" fill=\"#000000\" fill-rule=\"evenodd\" fill-opacity=\"1\" /><path clip-path=\"url(#clip520)\" d=\"M 0 0 M2812.85 444.589 L2820.49 444.589 L2820.49 418.223 L2812.18 419.89 L2812.18 415.631 L2820.44 413.964 L2825.12 413.964 L2825.12 444.589 L2832.76 444.589 L2832.76 448.524 L2812.85 448.524 L2812.85 444.589 Z\" fill=\"#000000\" fill-rule=\"evenodd\" fill-opacity=\"1\" /><path clip-path=\"url(#clip520)\" d=\"\n",
       "M3414.86 3027.7 L6352.76 3027.7 L6352.76 47.2441 L3414.86 47.2441  Z\n",
       "  \" fill=\"#ffffff\" fill-rule=\"evenodd\" fill-opacity=\"1\"/>\n",
       "<defs>\n",
       "  <clipPath id=\"clip523\">\n",
       "    <rect x=\"3414\" y=\"47\" width=\"2939\" height=\"2981\"/>\n",
       "  </clipPath>\n",
       "</defs>\n",
       "<polyline clip-path=\"url(#clip523)\" style=\"stroke:#000000; stroke-width:2; stroke-opacity:0.1; fill:none\" points=\"\n",
       "  3498.01,3027.7 3498.01,47.2441 \n",
       "  \"/>\n",
       "<polyline clip-path=\"url(#clip523)\" style=\"stroke:#000000; stroke-width:2; stroke-opacity:0.1; fill:none\" points=\"\n",
       "  4190.91,3027.7 4190.91,47.2441 \n",
       "  \"/>\n",
       "<polyline clip-path=\"url(#clip523)\" style=\"stroke:#000000; stroke-width:2; stroke-opacity:0.1; fill:none\" points=\"\n",
       "  4883.81,3027.7 4883.81,47.2441 \n",
       "  \"/>\n",
       "<polyline clip-path=\"url(#clip523)\" style=\"stroke:#000000; stroke-width:2; stroke-opacity:0.1; fill:none\" points=\"\n",
       "  5576.71,3027.7 5576.71,47.2441 \n",
       "  \"/>\n",
       "<polyline clip-path=\"url(#clip523)\" style=\"stroke:#000000; stroke-width:2; stroke-opacity:0.1; fill:none\" points=\"\n",
       "  6269.61,3027.7 6269.61,47.2441 \n",
       "  \"/>\n",
       "<polyline clip-path=\"url(#clip523)\" style=\"stroke:#000000; stroke-width:2; stroke-opacity:0.1; fill:none\" points=\"\n",
       "  3414.86,2943.37 6352.76,2943.37 \n",
       "  \"/>\n",
       "<polyline clip-path=\"url(#clip523)\" style=\"stroke:#000000; stroke-width:2; stroke-opacity:0.1; fill:none\" points=\"\n",
       "  3414.86,2240.43 6352.76,2240.43 \n",
       "  \"/>\n",
       "<polyline clip-path=\"url(#clip523)\" style=\"stroke:#000000; stroke-width:2; stroke-opacity:0.1; fill:none\" points=\"\n",
       "  3414.86,1537.49 6352.76,1537.49 \n",
       "  \"/>\n",
       "<polyline clip-path=\"url(#clip523)\" style=\"stroke:#000000; stroke-width:2; stroke-opacity:0.1; fill:none\" points=\"\n",
       "  3414.86,834.556 6352.76,834.556 \n",
       "  \"/>\n",
       "<polyline clip-path=\"url(#clip523)\" style=\"stroke:#000000; stroke-width:2; stroke-opacity:0.1; fill:none\" points=\"\n",
       "  3414.86,131.619 6352.76,131.619 \n",
       "  \"/>\n",
       "<polyline clip-path=\"url(#clip520)\" style=\"stroke:#000000; stroke-width:4; stroke-opacity:1; fill:none\" points=\"\n",
       "  3414.86,3027.7 6352.76,3027.7 \n",
       "  \"/>\n",
       "<polyline clip-path=\"url(#clip520)\" style=\"stroke:#000000; stroke-width:4; stroke-opacity:1; fill:none\" points=\"\n",
       "  3414.86,3027.7 3414.86,47.2441 \n",
       "  \"/>\n",
       "<polyline clip-path=\"url(#clip520)\" style=\"stroke:#000000; stroke-width:4; stroke-opacity:1; fill:none\" points=\"\n",
       "  3498.01,3027.7 3498.01,2991.93 \n",
       "  \"/>\n",
       "<polyline clip-path=\"url(#clip520)\" style=\"stroke:#000000; stroke-width:4; stroke-opacity:1; fill:none\" points=\"\n",
       "  4190.91,3027.7 4190.91,2991.93 \n",
       "  \"/>\n",
       "<polyline clip-path=\"url(#clip520)\" style=\"stroke:#000000; stroke-width:4; stroke-opacity:1; fill:none\" points=\"\n",
       "  4883.81,3027.7 4883.81,2991.93 \n",
       "  \"/>\n",
       "<polyline clip-path=\"url(#clip520)\" style=\"stroke:#000000; stroke-width:4; stroke-opacity:1; fill:none\" points=\"\n",
       "  5576.71,3027.7 5576.71,2991.93 \n",
       "  \"/>\n",
       "<polyline clip-path=\"url(#clip520)\" style=\"stroke:#000000; stroke-width:4; stroke-opacity:1; fill:none\" points=\"\n",
       "  6269.61,3027.7 6269.61,2991.93 \n",
       "  \"/>\n",
       "<polyline clip-path=\"url(#clip520)\" style=\"stroke:#000000; stroke-width:4; stroke-opacity:1; fill:none\" points=\"\n",
       "  3414.86,2943.37 3450.12,2943.37 \n",
       "  \"/>\n",
       "<polyline clip-path=\"url(#clip520)\" style=\"stroke:#000000; stroke-width:4; stroke-opacity:1; fill:none\" points=\"\n",
       "  3414.86,2240.43 3450.12,2240.43 \n",
       "  \"/>\n",
       "<polyline clip-path=\"url(#clip520)\" style=\"stroke:#000000; stroke-width:4; stroke-opacity:1; fill:none\" points=\"\n",
       "  3414.86,1537.49 3450.12,1537.49 \n",
       "  \"/>\n",
       "<polyline clip-path=\"url(#clip520)\" style=\"stroke:#000000; stroke-width:4; stroke-opacity:1; fill:none\" points=\"\n",
       "  3414.86,834.556 3450.12,834.556 \n",
       "  \"/>\n",
       "<polyline clip-path=\"url(#clip520)\" style=\"stroke:#000000; stroke-width:4; stroke-opacity:1; fill:none\" points=\"\n",
       "  3414.86,131.619 3450.12,131.619 \n",
       "  \"/>\n",
       "<path clip-path=\"url(#clip520)\" d=\"M 0 0 M3456.4 3097.24 L3464.04 3097.24 L3464.04 3070.87 L3455.73 3072.54 L3455.73 3068.28 L3463.99 3066.61 L3468.67 3066.61 L3468.67 3097.24 L3476.31 3097.24 L3476.31 3101.17 L3456.4 3101.17 L3456.4 3097.24 Z\" fill=\"#000000\" fill-rule=\"evenodd\" fill-opacity=\"1\" /><path clip-path=\"url(#clip520)\" d=\"M 0 0 M3481.38 3095.29 L3486.26 3095.29 L3486.26 3101.17 L3481.38 3101.17 L3481.38 3095.29 Z\" fill=\"#000000\" fill-rule=\"evenodd\" fill-opacity=\"1\" /><path clip-path=\"url(#clip520)\" d=\"M 0 0 M3501.33 3069.69 Q3497.72 3069.69 3495.89 3073.26 Q3494.09 3076.8 3494.09 3083.93 Q3494.09 3091.03 3495.89 3094.6 Q3497.72 3098.14 3501.33 3098.14 Q3504.97 3098.14 3506.77 3094.6 Q3508.6 3091.03 3508.6 3083.93 Q3508.6 3076.8 3506.77 3073.26 Q3504.97 3069.69 3501.33 3069.69 M3501.33 3065.99 Q3507.14 3065.99 3510.2 3070.59 Q3513.28 3075.18 3513.28 3083.93 Q3513.28 3092.65 3510.2 3097.26 Q3507.14 3101.84 3501.33 3101.84 Q3495.52 3101.84 3492.44 3097.26 Q3489.39 3092.65 3489.39 3083.93 Q3489.39 3075.18 3492.44 3070.59 Q3495.52 3065.99 3501.33 3065.99 Z\" fill=\"#000000\" fill-rule=\"evenodd\" fill-opacity=\"1\" /><path clip-path=\"url(#clip520)\" d=\"M 0 0 M3528.35 3069.69 Q3524.73 3069.69 3522.91 3073.26 Q3521.1 3076.8 3521.1 3083.93 Q3521.1 3091.03 3522.91 3094.6 Q3524.73 3098.14 3528.35 3098.14 Q3531.98 3098.14 3533.79 3094.6 Q3535.61 3091.03 3535.61 3083.93 Q3535.61 3076.8 3533.79 3073.26 Q3531.98 3069.69 3528.35 3069.69 M3528.35 3065.99 Q3534.16 3065.99 3537.21 3070.59 Q3540.29 3075.18 3540.29 3083.93 Q3540.29 3092.65 3537.21 3097.26 Q3534.16 3101.84 3528.35 3101.84 Q3522.54 3101.84 3519.46 3097.26 Q3516.4 3092.65 3516.4 3083.93 Q3516.4 3075.18 3519.46 3070.59 Q3522.54 3065.99 3528.35 3065.99 Z\" fill=\"#000000\" fill-rule=\"evenodd\" fill-opacity=\"1\" /><path clip-path=\"url(#clip520)\" d=\"M 0 0 M4150.6 3097.24 L4158.24 3097.24 L4158.24 3070.87 L4149.93 3072.54 L4149.93 3068.28 L4158.19 3066.61 L4162.87 3066.61 L4162.87 3097.24 L4170.5 3097.24 L4170.5 3101.17 L4150.6 3101.17 L4150.6 3097.24 Z\" fill=\"#000000\" fill-rule=\"evenodd\" fill-opacity=\"1\" /><path clip-path=\"url(#clip520)\" d=\"M 0 0 M4175.57 3095.29 L4180.46 3095.29 L4180.46 3101.17 L4175.57 3101.17 L4175.57 3095.29 Z\" fill=\"#000000\" fill-rule=\"evenodd\" fill-opacity=\"1\" /><path clip-path=\"url(#clip520)\" d=\"M 0 0 M4189.56 3097.24 L4205.87 3097.24 L4205.87 3101.17 L4183.93 3101.17 L4183.93 3097.24 Q4186.59 3094.48 4191.18 3089.85 Q4195.78 3085.2 4196.96 3083.86 Q4199.21 3081.33 4200.09 3079.6 Q4200.99 3077.84 4200.99 3076.15 Q4200.99 3073.39 4199.05 3071.66 Q4197.12 3069.92 4194.02 3069.92 Q4191.82 3069.92 4189.37 3070.69 Q4186.94 3071.45 4184.16 3073 L4184.16 3068.28 Q4186.99 3067.14 4189.44 3066.57 Q4191.89 3065.99 4193.93 3065.99 Q4199.3 3065.99 4202.5 3068.67 Q4205.69 3071.36 4205.69 3075.85 Q4205.69 3077.98 4204.88 3079.9 Q4204.09 3081.8 4201.99 3084.39 Q4201.41 3085.06 4198.31 3088.28 Q4195.2 3091.47 4189.56 3097.24 Z\" fill=\"#000000\" fill-rule=\"evenodd\" fill-opacity=\"1\" /><path clip-path=\"url(#clip520)\" d=\"M 0 0 M4210.99 3066.61 L4229.35 3066.61 L4229.35 3070.55 L4215.27 3070.55 L4215.27 3079.02 Q4216.29 3078.67 4217.31 3078.51 Q4218.33 3078.32 4219.35 3078.32 Q4225.13 3078.32 4228.51 3081.5 Q4231.89 3084.67 4231.89 3090.08 Q4231.89 3095.66 4228.42 3098.76 Q4224.95 3101.84 4218.63 3101.84 Q4216.45 3101.84 4214.18 3101.47 Q4211.94 3101.1 4209.53 3100.36 L4209.53 3095.66 Q4211.62 3096.8 4213.84 3097.35 Q4216.06 3097.91 4218.54 3097.91 Q4222.54 3097.91 4224.88 3095.8 Q4227.22 3093.7 4227.22 3090.08 Q4227.22 3086.47 4224.88 3084.37 Q4222.54 3082.26 4218.54 3082.26 Q4216.66 3082.26 4214.79 3082.68 Q4212.93 3083.09 4210.99 3083.97 L4210.99 3066.61 Z\" fill=\"#000000\" fill-rule=\"evenodd\" fill-opacity=\"1\" /><path clip-path=\"url(#clip520)\" d=\"M 0 0 M4842.7 3097.24 L4850.34 3097.24 L4850.34 3070.87 L4842.03 3072.54 L4842.03 3068.28 L4850.29 3066.61 L4854.97 3066.61 L4854.97 3097.24 L4862.61 3097.24 L4862.61 3101.17 L4842.7 3101.17 L4842.7 3097.24 Z\" fill=\"#000000\" fill-rule=\"evenodd\" fill-opacity=\"1\" /><path clip-path=\"url(#clip520)\" d=\"M 0 0 M4867.67 3095.29 L4872.56 3095.29 L4872.56 3101.17 L4867.67 3101.17 L4867.67 3095.29 Z\" fill=\"#000000\" fill-rule=\"evenodd\" fill-opacity=\"1\" /><path clip-path=\"url(#clip520)\" d=\"M 0 0 M4877.67 3066.61 L4896.03 3066.61 L4896.03 3070.55 L4881.96 3070.55 L4881.96 3079.02 Q4882.98 3078.67 4883.99 3078.51 Q4885.01 3078.32 4886.03 3078.32 Q4891.82 3078.32 4895.2 3081.5 Q4898.58 3084.67 4898.58 3090.08 Q4898.58 3095.66 4895.11 3098.76 Q4891.63 3101.84 4885.31 3101.84 Q4883.14 3101.84 4880.87 3101.47 Q4878.62 3101.1 4876.22 3100.36 L4876.22 3095.66 Q4878.3 3096.8 4880.52 3097.35 Q4882.74 3097.91 4885.22 3097.91 Q4889.23 3097.91 4891.56 3095.8 Q4893.9 3093.7 4893.9 3090.08 Q4893.9 3086.47 4891.56 3084.37 Q4889.23 3082.26 4885.22 3082.26 Q4883.35 3082.26 4881.47 3082.68 Q4879.62 3083.09 4877.67 3083.97 L4877.67 3066.61 Z\" fill=\"#000000\" fill-rule=\"evenodd\" fill-opacity=\"1\" /><path clip-path=\"url(#clip520)\" d=\"M 0 0 M4913.65 3069.69 Q4910.04 3069.69 4908.21 3073.26 Q4906.4 3076.8 4906.4 3083.93 Q4906.4 3091.03 4908.21 3094.6 Q4910.04 3098.14 4913.65 3098.14 Q4917.28 3098.14 4919.09 3094.6 Q4920.92 3091.03 4920.92 3083.93 Q4920.92 3076.8 4919.09 3073.26 Q4917.28 3069.69 4913.65 3069.69 M4913.65 3065.99 Q4919.46 3065.99 4922.51 3070.59 Q4925.59 3075.18 4925.59 3083.93 Q4925.59 3092.65 4922.51 3097.26 Q4919.46 3101.84 4913.65 3101.84 Q4907.84 3101.84 4904.76 3097.26 Q4901.7 3092.65 4901.7 3083.93 Q4901.7 3075.18 4904.76 3070.59 Q4907.84 3065.99 4913.65 3065.99 Z\" fill=\"#000000\" fill-rule=\"evenodd\" fill-opacity=\"1\" /><path clip-path=\"url(#clip520)\" d=\"M 0 0 M5536.05 3097.24 L5543.69 3097.24 L5543.69 3070.87 L5535.38 3072.54 L5535.38 3068.28 L5543.64 3066.61 L5548.32 3066.61 L5548.32 3097.24 L5555.96 3097.24 L5555.96 3101.17 L5536.05 3101.17 L5536.05 3097.24 Z\" fill=\"#000000\" fill-rule=\"evenodd\" fill-opacity=\"1\" /><path clip-path=\"url(#clip520)\" d=\"M 0 0 M5561.03 3095.29 L5565.91 3095.29 L5565.91 3101.17 L5561.03 3101.17 L5561.03 3095.29 Z\" fill=\"#000000\" fill-rule=\"evenodd\" fill-opacity=\"1\" /><path clip-path=\"url(#clip520)\" d=\"M 0 0 M5569.8 3066.61 L5592.02 3066.61 L5592.02 3068.6 L5579.47 3101.17 L5574.59 3101.17 L5586.4 3070.55 L5569.8 3070.55 L5569.8 3066.61 Z\" fill=\"#000000\" fill-rule=\"evenodd\" fill-opacity=\"1\" /><path clip-path=\"url(#clip520)\" d=\"M 0 0 M5597.14 3066.61 L5615.49 3066.61 L5615.49 3070.55 L5601.42 3070.55 L5601.42 3079.02 Q5602.44 3078.67 5603.46 3078.51 Q5604.47 3078.32 5605.49 3078.32 Q5611.28 3078.32 5614.66 3081.5 Q5618.04 3084.67 5618.04 3090.08 Q5618.04 3095.66 5614.57 3098.76 Q5611.09 3101.84 5604.78 3101.84 Q5602.6 3101.84 5600.33 3101.47 Q5598.09 3101.1 5595.68 3100.36 L5595.68 3095.66 Q5597.76 3096.8 5599.98 3097.35 Q5602.21 3097.91 5604.68 3097.91 Q5608.69 3097.91 5611.03 3095.8 Q5613.36 3093.7 5613.36 3090.08 Q5613.36 3086.47 5611.03 3084.37 Q5608.69 3082.26 5604.68 3082.26 Q5602.81 3082.26 5600.93 3082.68 Q5599.08 3083.09 5597.14 3083.97 L5597.14 3066.61 Z\" fill=\"#000000\" fill-rule=\"evenodd\" fill-opacity=\"1\" /><path clip-path=\"url(#clip520)\" d=\"M 0 0 M6232.27 3097.24 L6248.59 3097.24 L6248.59 3101.17 L6226.65 3101.17 L6226.65 3097.24 Q6229.31 3094.48 6233.89 3089.85 Q6238.5 3085.2 6239.68 3083.86 Q6241.92 3081.33 6242.8 3079.6 Q6243.71 3077.84 6243.71 3076.15 Q6243.71 3073.39 6241.76 3071.66 Q6239.84 3069.92 6236.74 3069.92 Q6234.54 3069.92 6232.09 3070.69 Q6229.65 3071.45 6226.88 3073 L6226.88 3068.28 Q6229.7 3067.14 6232.15 3066.57 Q6234.61 3065.99 6236.65 3065.99 Q6242.02 3065.99 6245.21 3068.67 Q6248.4 3071.36 6248.4 3075.85 Q6248.4 3077.98 6247.59 3079.9 Q6246.81 3081.8 6244.7 3084.39 Q6244.12 3085.06 6241.02 3088.28 Q6237.92 3091.47 6232.27 3097.24 Z\" fill=\"#000000\" fill-rule=\"evenodd\" fill-opacity=\"1\" /><path clip-path=\"url(#clip520)\" d=\"M 0 0 M6253.66 3095.29 L6258.54 3095.29 L6258.54 3101.17 L6253.66 3101.17 L6253.66 3095.29 Z\" fill=\"#000000\" fill-rule=\"evenodd\" fill-opacity=\"1\" /><path clip-path=\"url(#clip520)\" d=\"M 0 0 M6273.61 3069.69 Q6270 3069.69 6268.17 3073.26 Q6266.37 3076.8 6266.37 3083.93 Q6266.37 3091.03 6268.17 3094.6 Q6270 3098.14 6273.61 3098.14 Q6277.25 3098.14 6279.05 3094.6 Q6280.88 3091.03 6280.88 3083.93 Q6280.88 3076.8 6279.05 3073.26 Q6277.25 3069.69 6273.61 3069.69 M6273.61 3065.99 Q6279.42 3065.99 6282.48 3070.59 Q6285.56 3075.18 6285.56 3083.93 Q6285.56 3092.65 6282.48 3097.26 Q6279.42 3101.84 6273.61 3101.84 Q6267.8 3101.84 6264.72 3097.26 Q6261.67 3092.65 6261.67 3083.93 Q6261.67 3075.18 6264.72 3070.59 Q6267.8 3065.99 6273.61 3065.99 Z\" fill=\"#000000\" fill-rule=\"evenodd\" fill-opacity=\"1\" /><path clip-path=\"url(#clip520)\" d=\"M 0 0 M6300.63 3069.69 Q6297.02 3069.69 6295.19 3073.26 Q6293.38 3076.8 6293.38 3083.93 Q6293.38 3091.03 6295.19 3094.6 Q6297.02 3098.14 6300.63 3098.14 Q6304.26 3098.14 6306.07 3094.6 Q6307.89 3091.03 6307.89 3083.93 Q6307.89 3076.8 6306.07 3073.26 Q6304.26 3069.69 6300.63 3069.69 M6300.63 3065.99 Q6306.44 3065.99 6309.49 3070.59 Q6312.57 3075.18 6312.57 3083.93 Q6312.57 3092.65 6309.49 3097.26 Q6306.44 3101.84 6300.63 3101.84 Q6294.82 3101.84 6291.74 3097.26 Q6288.68 3092.65 6288.68 3083.93 Q6288.68 3075.18 6291.74 3070.59 Q6294.82 3065.99 6300.63 3065.99 Z\" fill=\"#000000\" fill-rule=\"evenodd\" fill-opacity=\"1\" /><path clip-path=\"url(#clip520)\" d=\"M 0 0 M3274.94 2929.17 Q3271.33 2929.17 3269.5 2932.73 Q3267.69 2936.27 3267.69 2943.4 Q3267.69 2950.51 3269.5 2954.08 Q3271.33 2957.62 3274.94 2957.62 Q3278.57 2957.62 3280.38 2954.08 Q3282.2 2950.51 3282.2 2943.4 Q3282.2 2936.27 3280.38 2932.73 Q3278.57 2929.17 3274.94 2929.17 M3274.94 2925.46 Q3280.75 2925.46 3283.8 2930.07 Q3286.88 2934.65 3286.88 2943.4 Q3286.88 2952.13 3283.8 2956.74 Q3280.75 2961.32 3274.94 2961.32 Q3269.13 2961.32 3266.05 2956.74 Q3262.99 2952.13 3262.99 2943.4 Q3262.99 2934.65 3266.05 2930.07 Q3269.13 2925.46 3274.94 2925.46 Z\" fill=\"#000000\" fill-rule=\"evenodd\" fill-opacity=\"1\" /><path clip-path=\"url(#clip520)\" d=\"M 0 0 M3291.95 2954.77 L3296.83 2954.77 L3296.83 2960.65 L3291.95 2960.65 L3291.95 2954.77 Z\" fill=\"#000000\" fill-rule=\"evenodd\" fill-opacity=\"1\" /><path clip-path=\"url(#clip520)\" d=\"M 0 0 M3311.9 2929.17 Q3308.29 2929.17 3306.46 2932.73 Q3304.66 2936.27 3304.66 2943.4 Q3304.66 2950.51 3306.46 2954.08 Q3308.29 2957.62 3311.9 2957.62 Q3315.54 2957.62 3317.34 2954.08 Q3319.17 2950.51 3319.17 2943.4 Q3319.17 2936.27 3317.34 2932.73 Q3315.54 2929.17 3311.9 2929.17 M3311.9 2925.46 Q3317.71 2925.46 3320.77 2930.07 Q3323.85 2934.65 3323.85 2943.4 Q3323.85 2952.13 3320.77 2956.74 Q3317.71 2961.32 3311.9 2961.32 Q3306.09 2961.32 3303.02 2956.74 Q3299.96 2952.13 3299.96 2943.4 Q3299.96 2934.65 3303.02 2930.07 Q3306.09 2925.46 3311.9 2925.46 Z\" fill=\"#000000\" fill-rule=\"evenodd\" fill-opacity=\"1\" /><path clip-path=\"url(#clip520)\" d=\"M 0 0 M3338.92 2929.17 Q3335.31 2929.17 3333.48 2932.73 Q3331.67 2936.27 3331.67 2943.4 Q3331.67 2950.51 3333.48 2954.08 Q3335.31 2957.62 3338.92 2957.62 Q3342.55 2957.62 3344.36 2954.08 Q3346.19 2950.51 3346.19 2943.4 Q3346.19 2936.27 3344.36 2932.73 Q3342.55 2929.17 3338.92 2929.17 M3338.92 2925.46 Q3344.73 2925.46 3347.78 2930.07 Q3350.86 2934.65 3350.86 2943.4 Q3350.86 2952.13 3347.78 2956.74 Q3344.73 2961.32 3338.92 2961.32 Q3333.11 2961.32 3330.03 2956.74 Q3326.97 2952.13 3326.97 2943.4 Q3326.97 2934.65 3330.03 2930.07 Q3333.11 2925.46 3338.92 2925.46 Z\" fill=\"#000000\" fill-rule=\"evenodd\" fill-opacity=\"1\" /><path clip-path=\"url(#clip520)\" d=\"M 0 0 M3277.53 2226.23 Q3273.92 2226.23 3272.09 2229.8 Q3270.28 2233.34 3270.28 2240.47 Q3270.28 2247.57 3272.09 2251.14 Q3273.92 2254.68 3277.53 2254.68 Q3281.16 2254.68 3282.97 2251.14 Q3284.8 2247.57 3284.8 2240.47 Q3284.8 2233.34 3282.97 2229.8 Q3281.16 2226.23 3277.53 2226.23 M3277.53 2222.53 Q3283.34 2222.53 3286.39 2227.13 Q3289.47 2231.72 3289.47 2240.47 Q3289.47 2249.19 3286.39 2253.8 Q3283.34 2258.38 3277.53 2258.38 Q3271.72 2258.38 3268.64 2253.8 Q3265.58 2249.19 3265.58 2240.47 Q3265.58 2231.72 3268.64 2227.13 Q3271.72 2222.53 3277.53 2222.53 Z\" fill=\"#000000\" fill-rule=\"evenodd\" fill-opacity=\"1\" /><path clip-path=\"url(#clip520)\" d=\"M 0 0 M3294.54 2251.83 L3299.43 2251.83 L3299.43 2257.71 L3294.54 2257.71 L3294.54 2251.83 Z\" fill=\"#000000\" fill-rule=\"evenodd\" fill-opacity=\"1\" /><path clip-path=\"url(#clip520)\" d=\"M 0 0 M3308.52 2253.78 L3324.84 2253.78 L3324.84 2257.71 L3302.9 2257.71 L3302.9 2253.78 Q3305.56 2251.02 3310.14 2246.39 Q3314.75 2241.74 3315.93 2240.4 Q3318.18 2237.87 3319.06 2236.14 Q3319.96 2234.38 3319.96 2232.69 Q3319.96 2229.93 3318.01 2228.2 Q3316.09 2226.46 3312.99 2226.46 Q3310.79 2226.46 3308.34 2227.23 Q3305.91 2227.99 3303.13 2229.54 L3303.13 2224.82 Q3305.95 2223.68 3308.41 2223.11 Q3310.86 2222.53 3312.9 2222.53 Q3318.27 2222.53 3321.46 2225.21 Q3324.66 2227.9 3324.66 2232.39 Q3324.66 2234.52 3323.85 2236.44 Q3323.06 2238.34 3320.95 2240.93 Q3320.38 2241.6 3317.27 2244.82 Q3314.17 2248.01 3308.52 2253.78 Z\" fill=\"#000000\" fill-rule=\"evenodd\" fill-opacity=\"1\" /><path clip-path=\"url(#clip520)\" d=\"M 0 0 M3329.96 2223.15 L3348.32 2223.15 L3348.32 2227.09 L3334.24 2227.09 L3334.24 2235.56 Q3335.26 2235.21 3336.28 2235.05 Q3337.3 2234.86 3338.32 2234.86 Q3344.1 2234.86 3347.48 2238.04 Q3350.86 2241.21 3350.86 2246.62 Q3350.86 2252.2 3347.39 2255.3 Q3343.92 2258.38 3337.6 2258.38 Q3335.42 2258.38 3333.15 2258.01 Q3330.91 2257.64 3328.5 2256.9 L3328.5 2252.2 Q3330.58 2253.34 3332.81 2253.89 Q3335.03 2254.45 3337.51 2254.45 Q3341.51 2254.45 3343.85 2252.34 Q3346.19 2250.23 3346.19 2246.62 Q3346.19 2243.01 3343.85 2240.91 Q3341.51 2238.8 3337.51 2238.8 Q3335.63 2238.8 3333.76 2239.22 Q3331.9 2239.63 3329.96 2240.51 L3329.96 2223.15 Z\" fill=\"#000000\" fill-rule=\"evenodd\" fill-opacity=\"1\" /><path clip-path=\"url(#clip520)\" d=\"M 0 0 M3275.93 1523.29 Q3272.32 1523.29 3270.49 1526.86 Q3268.69 1530.4 3268.69 1537.53 Q3268.69 1544.64 3270.49 1548.2 Q3272.32 1551.74 3275.93 1551.74 Q3279.57 1551.74 3281.37 1548.2 Q3283.2 1544.64 3283.2 1537.53 Q3283.2 1530.4 3281.37 1526.86 Q3279.57 1523.29 3275.93 1523.29 M3275.93 1519.59 Q3281.74 1519.59 3284.8 1524.2 Q3287.88 1528.78 3287.88 1537.53 Q3287.88 1546.26 3284.8 1550.86 Q3281.74 1555.45 3275.93 1555.45 Q3270.12 1555.45 3267.04 1550.86 Q3263.99 1546.26 3263.99 1537.53 Q3263.99 1528.78 3267.04 1524.2 Q3270.12 1519.59 3275.93 1519.59 Z\" fill=\"#000000\" fill-rule=\"evenodd\" fill-opacity=\"1\" /><path clip-path=\"url(#clip520)\" d=\"M 0 0 M3292.95 1548.89 L3297.83 1548.89 L3297.83 1554.77 L3292.95 1554.77 L3292.95 1548.89 Z\" fill=\"#000000\" fill-rule=\"evenodd\" fill-opacity=\"1\" /><path clip-path=\"url(#clip520)\" d=\"M 0 0 M3302.95 1520.21 L3321.3 1520.21 L3321.3 1524.15 L3307.23 1524.15 L3307.23 1532.62 Q3308.25 1532.27 3309.27 1532.11 Q3310.28 1531.93 3311.3 1531.93 Q3317.09 1531.93 3320.47 1535.1 Q3323.85 1538.27 3323.85 1543.69 Q3323.85 1549.26 3320.38 1552.37 Q3316.9 1555.45 3310.58 1555.45 Q3308.41 1555.45 3306.14 1555.08 Q3303.89 1554.7 3301.49 1553.96 L3301.49 1549.26 Q3303.57 1550.4 3305.79 1550.95 Q3308.02 1551.51 3310.49 1551.51 Q3314.5 1551.51 3316.83 1549.4 Q3319.17 1547.3 3319.17 1543.69 Q3319.17 1540.08 3316.83 1537.97 Q3314.5 1535.86 3310.49 1535.86 Q3308.62 1535.86 3306.74 1536.28 Q3304.89 1536.7 3302.95 1537.58 L3302.95 1520.21 Z\" fill=\"#000000\" fill-rule=\"evenodd\" fill-opacity=\"1\" /><path clip-path=\"url(#clip520)\" d=\"M 0 0 M3338.92 1523.29 Q3335.31 1523.29 3333.48 1526.86 Q3331.67 1530.4 3331.67 1537.53 Q3331.67 1544.64 3333.48 1548.2 Q3335.31 1551.74 3338.92 1551.74 Q3342.55 1551.74 3344.36 1548.2 Q3346.19 1544.64 3346.19 1537.53 Q3346.19 1530.4 3344.36 1526.86 Q3342.55 1523.29 3338.92 1523.29 M3338.92 1519.59 Q3344.73 1519.59 3347.78 1524.2 Q3350.86 1528.78 3350.86 1537.53 Q3350.86 1546.26 3347.78 1550.86 Q3344.73 1555.45 3338.92 1555.45 Q3333.11 1555.45 3330.03 1550.86 Q3326.97 1546.26 3326.97 1537.53 Q3326.97 1528.78 3330.03 1524.2 Q3333.11 1519.59 3338.92 1519.59 Z\" fill=\"#000000\" fill-rule=\"evenodd\" fill-opacity=\"1\" /><path clip-path=\"url(#clip520)\" d=\"M 0 0 M3276.83 820.355 Q3273.22 820.355 3271.39 823.92 Q3269.59 827.462 3269.59 834.591 Q3269.59 841.698 3271.39 845.262 Q3273.22 848.804 3276.83 848.804 Q3280.47 848.804 3282.27 845.262 Q3284.1 841.698 3284.1 834.591 Q3284.1 827.462 3282.27 823.92 Q3280.47 820.355 3276.83 820.355 M3276.83 816.651 Q3282.64 816.651 3285.7 821.258 Q3288.78 825.841 3288.78 834.591 Q3288.78 843.318 3285.7 847.924 Q3282.64 852.508 3276.83 852.508 Q3271.02 852.508 3267.95 847.924 Q3264.89 843.318 3264.89 834.591 Q3264.89 825.841 3267.95 821.258 Q3271.02 816.651 3276.83 816.651 Z\" fill=\"#000000\" fill-rule=\"evenodd\" fill-opacity=\"1\" /><path clip-path=\"url(#clip520)\" d=\"M 0 0 M3293.85 845.957 L3298.73 845.957 L3298.73 851.836 L3293.85 851.836 L3293.85 845.957 Z\" fill=\"#000000\" fill-rule=\"evenodd\" fill-opacity=\"1\" /><path clip-path=\"url(#clip520)\" d=\"M 0 0 M3302.62 817.276 L3324.84 817.276 L3324.84 819.267 L3312.3 851.836 L3307.41 851.836 L3319.22 821.212 L3302.62 821.212 L3302.62 817.276 Z\" fill=\"#000000\" fill-rule=\"evenodd\" fill-opacity=\"1\" /><path clip-path=\"url(#clip520)\" d=\"M 0 0 M3329.96 817.276 L3348.32 817.276 L3348.32 821.212 L3334.24 821.212 L3334.24 829.684 Q3335.26 829.337 3336.28 829.175 Q3337.3 828.989 3338.32 828.989 Q3344.1 828.989 3347.48 832.161 Q3350.86 835.332 3350.86 840.749 Q3350.86 846.327 3347.39 849.429 Q3343.92 852.508 3337.6 852.508 Q3335.42 852.508 3333.15 852.137 Q3330.91 851.767 3328.5 851.026 L3328.5 846.327 Q3330.58 847.461 3332.81 848.017 Q3335.03 848.573 3337.51 848.573 Q3341.51 848.573 3343.85 846.466 Q3346.19 844.36 3346.19 840.749 Q3346.19 837.137 3343.85 835.031 Q3341.51 832.925 3337.51 832.925 Q3335.63 832.925 3333.76 833.341 Q3331.9 833.758 3329.96 834.637 L3329.96 817.276 Z\" fill=\"#000000\" fill-rule=\"evenodd\" fill-opacity=\"1\" /><path clip-path=\"url(#clip520)\" d=\"M 0 0 M3266.97 144.964 L3274.61 144.964 L3274.61 118.598 L3266.3 120.265 L3266.3 116.005 L3274.57 114.339 L3279.24 114.339 L3279.24 144.964 L3286.88 144.964 L3286.88 148.899 L3266.97 148.899 L3266.97 144.964 Z\" fill=\"#000000\" fill-rule=\"evenodd\" fill-opacity=\"1\" /><path clip-path=\"url(#clip520)\" d=\"M 0 0 M3291.95 143.019 L3296.83 143.019 L3296.83 148.899 L3291.95 148.899 L3291.95 143.019 Z\" fill=\"#000000\" fill-rule=\"evenodd\" fill-opacity=\"1\" /><path clip-path=\"url(#clip520)\" d=\"M 0 0 M3311.9 117.417 Q3308.29 117.417 3306.46 120.982 Q3304.66 124.524 3304.66 131.654 Q3304.66 138.76 3306.46 142.325 Q3308.29 145.866 3311.9 145.866 Q3315.54 145.866 3317.34 142.325 Q3319.17 138.76 3319.17 131.654 Q3319.17 124.524 3317.34 120.982 Q3315.54 117.417 3311.9 117.417 M3311.9 113.714 Q3317.71 113.714 3320.77 118.32 Q3323.85 122.904 3323.85 131.654 Q3323.85 140.38 3320.77 144.987 Q3317.71 149.57 3311.9 149.57 Q3306.09 149.57 3303.02 144.987 Q3299.96 140.38 3299.96 131.654 Q3299.96 122.904 3303.02 118.32 Q3306.09 113.714 3311.9 113.714 Z\" fill=\"#000000\" fill-rule=\"evenodd\" fill-opacity=\"1\" /><path clip-path=\"url(#clip520)\" d=\"M 0 0 M3338.92 117.417 Q3335.31 117.417 3333.48 120.982 Q3331.67 124.524 3331.67 131.654 Q3331.67 138.76 3333.48 142.325 Q3335.31 145.866 3338.92 145.866 Q3342.55 145.866 3344.36 142.325 Q3346.19 138.76 3346.19 131.654 Q3346.19 124.524 3344.36 120.982 Q3342.55 117.417 3338.92 117.417 M3338.92 113.714 Q3344.73 113.714 3347.78 118.32 Q3350.86 122.904 3350.86 131.654 Q3350.86 140.38 3347.78 144.987 Q3344.73 149.57 3338.92 149.57 Q3333.11 149.57 3330.03 144.987 Q3326.97 140.38 3326.97 131.654 Q3326.97 122.904 3330.03 118.32 Q3333.11 113.714 3338.92 113.714 Z\" fill=\"#000000\" fill-rule=\"evenodd\" fill-opacity=\"1\" /><path clip-path=\"url(#clip520)\" d=\"M 0 0 M4787.19 3154.79 L4787.19 3164.92 L4799.26 3164.92 L4799.26 3169.47 L4787.19 3169.47 L4787.19 3188.82 Q4787.19 3193.18 4788.37 3194.42 Q4789.58 3195.66 4793.24 3195.66 L4799.26 3195.66 L4799.26 3200.56 L4793.24 3200.56 Q4786.46 3200.56 4783.88 3198.05 Q4781.31 3195.5 4781.31 3188.82 L4781.31 3169.47 L4777.01 3169.47 L4777.01 3164.92 L4781.31 3164.92 L4781.31 3154.79 L4787.19 3154.79 Z\" fill=\"#000000\" fill-rule=\"evenodd\" fill-opacity=\"1\" /><path clip-path=\"url(#clip520)\" d=\"M 0 0 M4805.4 3164.92 L4811.26 3164.92 L4811.26 3200.56 L4805.4 3200.56 L4805.4 3164.92 M4805.4 3151.04 L4811.26 3151.04 L4811.26 3158.45 L4805.4 3158.45 L4805.4 3151.04 Z\" fill=\"#000000\" fill-rule=\"evenodd\" fill-opacity=\"1\" /><path clip-path=\"url(#clip520)\" d=\"M 0 0 M4845.15 3171.76 Q4847.35 3167.81 4850.4 3165.93 Q4853.46 3164.06 4857.6 3164.06 Q4863.17 3164.06 4866.19 3167.97 Q4869.22 3171.85 4869.22 3179.05 L4869.22 3200.56 L4863.33 3200.56 L4863.33 3179.24 Q4863.33 3174.11 4861.51 3171.63 Q4859.7 3169.15 4855.97 3169.15 Q4851.42 3169.15 4848.78 3172.17 Q4846.14 3175.2 4846.14 3180.42 L4846.14 3200.56 L4840.25 3200.56 L4840.25 3179.24 Q4840.25 3174.08 4838.44 3171.63 Q4836.62 3169.15 4832.84 3169.15 Q4828.35 3169.15 4825.71 3172.2 Q4823.06 3175.23 4823.06 3180.42 L4823.06 3200.56 L4817.18 3200.56 L4817.18 3164.92 L4823.06 3164.92 L4823.06 3170.45 Q4825.07 3167.18 4827.87 3165.62 Q4830.67 3164.06 4834.52 3164.06 Q4838.41 3164.06 4841.11 3166.03 Q4843.85 3168 4845.15 3171.76 Z\" fill=\"#000000\" fill-rule=\"evenodd\" fill-opacity=\"1\" /><path clip-path=\"url(#clip520)\" d=\"M 0 0 M4905.85 3181.28 L4905.85 3184.14 L4878.92 3184.14 Q4879.31 3190.19 4882.55 3193.37 Q4885.83 3196.52 4891.65 3196.52 Q4895.03 3196.52 4898.18 3195.69 Q4901.36 3194.87 4904.48 3193.21 L4904.48 3198.75 Q4901.33 3200.09 4898.02 3200.79 Q4894.71 3201.49 4891.3 3201.49 Q4882.77 3201.49 4877.78 3196.52 Q4872.81 3191.56 4872.81 3183.09 Q4872.81 3174.34 4877.52 3169.21 Q4882.27 3164.06 4890.29 3164.06 Q4897.48 3164.06 4901.65 3168.7 Q4905.85 3173.32 4905.85 3181.28 M4899.99 3179.56 Q4899.93 3174.75 4897.29 3171.89 Q4894.68 3169.02 4890.35 3169.02 Q4885.45 3169.02 4882.49 3171.79 Q4879.56 3174.56 4879.11 3179.59 L4899.99 3179.56 Z\" fill=\"#000000\" fill-rule=\"evenodd\" fill-opacity=\"1\" /><path clip-path=\"url(#clip520)\" d=\"M 0 0 M4946.78 3151.1 Q4942.52 3158.42 4940.45 3165.58 Q4938.38 3172.75 4938.38 3180.1 Q4938.38 3187.45 4940.45 3194.68 Q4942.55 3201.87 4946.78 3209.16 L4941.69 3209.16 Q4936.91 3201.68 4934.53 3194.45 Q4932.17 3187.23 4932.17 3180.1 Q4932.17 3173 4934.53 3165.81 Q4936.88 3158.61 4941.69 3151.1 L4946.78 3151.1 Z\" fill=\"#000000\" fill-rule=\"evenodd\" fill-opacity=\"1\" /><path clip-path=\"url(#clip520)\" d=\"M 0 0 M4958.72 3154.79 L4958.72 3164.92 L4970.78 3164.92 L4970.78 3169.47 L4958.72 3169.47 L4958.72 3188.82 Q4958.72 3193.18 4959.9 3194.42 Q4961.1 3195.66 4964.76 3195.66 L4970.78 3195.66 L4970.78 3200.56 L4964.76 3200.56 Q4957.99 3200.56 4955.41 3198.05 Q4952.83 3195.5 4952.83 3188.82 L4952.83 3169.47 L4948.53 3169.47 L4948.53 3164.92 L4952.83 3164.92 L4952.83 3154.79 L4958.72 3154.79 Z\" fill=\"#000000\" fill-rule=\"evenodd\" fill-opacity=\"1\" /><path clip-path=\"url(#clip520)\" d=\"M 0 0 M4976 3151.1 L4981.09 3151.1 Q4985.87 3158.61 4988.22 3165.81 Q4990.61 3173 4990.61 3180.1 Q4990.61 3187.23 4988.22 3194.45 Q4985.87 3201.68 4981.09 3209.16 L4976 3209.16 Q4980.23 3201.87 4982.3 3194.68 Q4984.4 3187.45 4984.4 3180.1 Q4984.4 3172.75 4982.3 3165.58 Q4980.23 3158.42 4976 3151.1 Z\" fill=\"#000000\" fill-rule=\"evenodd\" fill-opacity=\"1\" /><path clip-path=\"url(#clip520)\" d=\"\n",
       "M5447.38 491.724 L6160.76 491.724 L6160.76 370.764 L5447.38 370.764  Z\n",
       "  \" fill=\"#ffffff\" fill-rule=\"evenodd\" fill-opacity=\"1\"/>\n",
       "<polyline clip-path=\"url(#clip520)\" style=\"stroke:#000000; stroke-width:4; stroke-opacity:1; fill:none\" points=\"\n",
       "  5447.38,491.724 6160.76,491.724 6160.76,370.764 5447.38,370.764 5447.38,491.724 \n",
       "  \"/>\n",
       "<polyline clip-path=\"url(#clip520)\" style=\"stroke:#0000ff; stroke-width:4; stroke-opacity:1; fill:none\" points=\"\n",
       "  5511.38,431.244 5895.38,431.244 \n",
       "  \"/>\n",
       "<path clip-path=\"url(#clip520)\" d=\"M 0 0 M5978.64 432.089 L5963.89 432.089 Q5964.24 439.01 5965.83 441.95 Q5967.83 445.561 5971.27 445.561 Q5974.75 445.561 5976.67 441.927 Q5978.36 438.732 5978.64 432.089 M5978.57 428.154 Q5977.92 421.58 5976.67 419.265 Q5974.68 415.608 5971.27 415.608 Q5967.73 415.608 5965.86 419.219 Q5964.38 422.135 5963.94 428.154 L5978.57 428.154 M5971.27 412.135 Q5976.83 412.135 5980 417.043 Q5983.17 421.927 5983.17 430.584 Q5983.17 439.219 5980 444.126 Q5976.83 449.056 5971.27 449.056 Q5965.7 449.056 5962.55 444.126 Q5959.38 439.219 5959.38 430.584 Q5959.38 421.927 5962.55 417.043 Q5965.7 412.135 5971.27 412.135 Z\" fill=\"#000000\" fill-rule=\"evenodd\" fill-opacity=\"1\" /><path clip-path=\"url(#clip520)\" d=\"M 0 0 M6007.34 456.394 L6007.34 459.705 L5982.71 459.705 L5982.71 456.394 L6007.34 456.394 Z\" fill=\"#000000\" fill-rule=\"evenodd\" fill-opacity=\"1\" /><path clip-path=\"url(#clip520)\" d=\"M 0 0 M6016.44 444.589 L6032.76 444.589 L6032.76 448.524 L6010.81 448.524 L6010.81 444.589 Q6013.47 441.834 6018.06 437.205 Q6022.66 432.552 6023.84 431.209 Q6026.09 428.686 6026.97 426.95 Q6027.87 425.191 6027.87 423.501 Q6027.87 420.746 6025.93 419.01 Q6024.01 417.274 6020.9 417.274 Q6018.71 417.274 6016.25 418.038 Q6013.82 418.802 6011.04 420.353 L6011.04 415.631 Q6013.87 414.496 6016.32 413.918 Q6018.77 413.339 6020.81 413.339 Q6026.18 413.339 6029.38 416.024 Q6032.57 418.709 6032.57 423.2 Q6032.57 425.33 6031.76 427.251 Q6030.97 429.149 6028.87 431.742 Q6028.29 432.413 6025.19 435.631 Q6022.08 438.825 6016.44 444.589 Z\" fill=\"#000000\" fill-rule=\"evenodd\" fill-opacity=\"1\" /></svg>\n"
      ]
     },
     "execution_count": 34,
     "metadata": {},
     "output_type": "execute_result"
    }
   ],
   "source": [
    "p2a = Plots.plot(1:n:T, estimated_coeffs[1,1:n:T], color=\"red\", label=\"θ_1\", xlabel=\"time (t)\")\n",
    "p2b = Plots.plot(1:n:T, estimated_coeffs[2,1:n:T], color=\"blue\", label=\"θ_2\", xlabel=\"time (t)\")\n",
    "plot(p2a, p2b, size=(1600,800))\n",
    "# Plots.savefig(p1, \"viz/estimated_coeffs1.png\")"
   ]
  },
  {
   "cell_type": "code",
   "execution_count": null,
   "metadata": {},
   "outputs": [],
   "source": []
  }
 ],
 "metadata": {
  "@webio": {
   "lastCommId": null,
   "lastKernelId": null
  },
  "kernelspec": {
   "display_name": "Julia 1.3.1",
   "language": "julia",
   "name": "julia-1.3"
  },
  "language_info": {
   "file_extension": ".jl",
   "mimetype": "application/julia",
   "name": "julia",
   "version": "1.3.1"
  }
 },
 "nbformat": 4,
 "nbformat_minor": 4
}
